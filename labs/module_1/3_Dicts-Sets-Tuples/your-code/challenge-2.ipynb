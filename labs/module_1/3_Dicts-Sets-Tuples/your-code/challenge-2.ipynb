{
 "cells": [
  {
   "cell_type": "markdown",
   "metadata": {},
   "source": [
    "## Challenge 2: Sets\n",
    "\n",
    "There are a lot to learn about Python Sets and the information presented in the lesson is limited due to its length. To learn Python Sets in depth you are strongly encouraged to review the W3Schools tutorial on [Python Sets Examples and Methods](https://www.w3schools.com/python/python_sets.asp) before you work on this lab. Some difficult questions in this lab have their solutions in the W3Schools tutorial.\n",
    "\n",
    "#### First, import the Python `random` library."
   ]
  },
  {
   "cell_type": "code",
   "execution_count": 11,
   "metadata": {},
   "outputs": [],
   "source": [
    "import random"
   ]
  },
  {
   "cell_type": "markdown",
   "metadata": {},
   "source": [
    "#### In the cell below, create a list named `sample_list_1` with 80 random values. \n",
    "\n",
    "Requirements:\n",
    "\n",
    "* Each value is an integer falling between 0 and 100.\n",
    "* Each value in the list is unique.\n",
    "\n",
    "Print `sample_list_1` to review its values\n",
    "\n",
    "*Hint: use `random.sample` ([reference](https://docs.python.org/3/library/random.html#random.sample)).*"
   ]
  },
  {
   "cell_type": "code",
   "execution_count": 12,
   "metadata": {
    "scrolled": true
   },
   "outputs": [
    {
     "name": "stdout",
     "output_type": "stream",
     "text": [
      "[40, 97, 69, 76, 73, 25, 21, 49, 47, 89, 79, 68, 38, 0, 26, 88, 51, 39, 11, 60, 65, 35, 32, 22, 12, 6, 90, 14, 92, 54, 37, 2, 64, 16, 96, 93, 59, 70, 36, 85, 15, 67, 43, 8, 29, 41, 33, 52, 5, 94, 56, 55, 30, 24, 13, 81, 17, 42, 66, 82, 75, 87, 74, 58, 61, 27, 72, 46, 57, 50, 4, 34, 1, 77, 3, 62, 53, 84, 80, 9]\n"
     ]
    }
   ],
   "source": [
    "# Your code here\n",
    "import random\n",
    "sample_list_1 = random.sample(range(100),80)\n",
    "print(sample_list_1)"
   ]
  },
  {
   "cell_type": "markdown",
   "metadata": {},
   "source": [
    "#### Convert `sample_list_1` to a set called `set1`. Print the length of the set. Is its length still 80?"
   ]
  },
  {
   "cell_type": "code",
   "execution_count": 13,
   "metadata": {},
   "outputs": [
    {
     "name": "stdout",
     "output_type": "stream",
     "text": [
      "{0, 2, 3, 5, 6, 7, 9, 10, 11, 12, 13, 15, 16, 17, 19, 20, 21, 22, 23, 24, 25, 26, 27, 28, 29, 30, 32, 33, 34, 35, 36, 37, 39, 40, 41, 42, 43, 44, 45, 46, 47, 48, 49, 50, 51, 54, 55, 56, 58, 59, 60, 61, 62, 63, 65, 68, 70, 71, 72, 74, 75, 76, 77, 78, 79, 80, 81, 82, 84, 86, 87, 88, 90, 91, 93, 94, 95, 96, 97, 99}\n",
      "True\n"
     ]
    }
   ],
   "source": [
    "# Your code here\n",
    "sample_list_1=[35, 56, 76, 2, 49, 33, 3, 22, 75, 39, 34, 58, 32, 13, 96, 20, 21, 77, 55, 81, 45, 36, 25, 30, 84, 74, 5, 7, 93, 19, 0, 10, 28, 11, 51, 99, 90, 87, 80, 65, 48, 17, 15, 97, 44, 68, 54, 47, 78, 24, 63, 27, 70, 16, 71, 46, 37, 61, 72, 62, 86, 95, 40, 50, 59, 94, 43, 23, 82, 26, 42, 29, 91, 6, 12, 88, 60, 41, 79, 9]\n",
    "set1=set(sample_list_1)\n",
    "print(set1)\n",
    "print(len(set1)==80)"
   ]
  },
  {
   "cell_type": "markdown",
   "metadata": {},
   "source": [
    "#### Create another list named `sample_list_2` with 80 random values.\n",
    "\n",
    "Requirements:\n",
    "\n",
    "* Each value is an integer falling between 0 and 100.\n",
    "* The values in the list don't have to be unique.\n",
    "\n",
    "*Hint: Use a FOR loop.*"
   ]
  },
  {
   "cell_type": "code",
   "execution_count": 14,
   "metadata": {},
   "outputs": [
    {
     "name": "stdout",
     "output_type": "stream",
     "text": [
      "[19, 91, 33, 41, 27, 84, 27, 43, 22, 5, 35, 76, 17, 11, 59, 57, 6, 58, 20, 84, 94, 20, 83, 63, 71, 72, 84, 49, 24, 21, 95, 8, 84, 30, 60, 60, 73, 74, 61, 61, 87, 35, 36, 34, 83, 1, 84, 4, 53, 7, 79, 16, 75, 80, 87, 59, 7, 26, 26, 42, 31, 93, 24, 80, 36, 84, 31, 9, 95, 96, 27, 61, 9, 94, 92, 21, 30, 44, 30, 9]\n"
     ]
    }
   ],
   "source": [
    "# Your code here\n",
    "import random\n",
    "\n",
    "sample_list_2=[]\n",
    "for i in range (80):\n",
    "    sample_list_2.append(random.randrange(1,100,1))\n",
    "\n",
    "print (sample_list_2)"
   ]
  },
  {
   "cell_type": "markdown",
   "metadata": {},
   "source": [
    "#### Convert `sample_list_2` to a set called `set2`. Print the length of the set. Is its length still 80?"
   ]
  },
  {
   "cell_type": "code",
   "execution_count": 15,
   "metadata": {},
   "outputs": [
    {
     "name": "stdout",
     "output_type": "stream",
     "text": [
      "{1, 4, 5, 6, 7, 8, 9, 11, 16, 17, 19, 20, 21, 22, 24, 26, 27, 30, 31, 33, 34, 35, 36, 41, 42, 43, 44, 49, 53, 57, 58, 59, 60, 61, 63, 71, 72, 73, 74, 75, 76, 79, 80, 83, 84, 87, 91, 92, 93, 94, 95, 96}\n",
      "False\n"
     ]
    }
   ],
   "source": [
    "# Your code here\n",
    "set2=set(sample_list_2)\n",
    "print(set2)\n",
    "print(len(set2)==80)"
   ]
  },
  {
   "cell_type": "markdown",
   "metadata": {},
   "source": [
    "#### Identify the elements present in `set1` but not in `set2`. Assign the elements to a new set named `set3`."
   ]
  },
  {
   "cell_type": "code",
   "execution_count": 16,
   "metadata": {
    "scrolled": true
   },
   "outputs": [
    {
     "name": "stdout",
     "output_type": "stream",
     "text": [
      "{0, 2, 5, 6, 7, 9, 10, 11, 13, 15, 23, 28, 29, 32, 33, 36, 41, 42, 44, 47, 48, 55, 58, 63, 65, 70, 71, 75, 78, 79, 80, 81, 86, 91, 95, 97, 99}\n"
     ]
    }
   ],
   "source": [
    "# Your code here\n",
    "set1={0, 2, 3, 5, 6, 7, 9, 10, 11, 12, 13, 15, 16, 17, 19, 20, 21, 22, 23, 24, 25, 26, 27, 28, 29, 30, 32, 33, 34, 35, 36, 37, 39, 40, 41, 42, 43, 44, 45, 46, 47, 48, 49, 50, 51, 54, 55, 56, 58, 59, 60, 61, 62, 63, 65, 68, 70, 71, 72, 74, 75, 76, 77, 78, 79, 80, 81, 82, 84, 86, 87, 88, 90, 91, 93, 94, 95, 96, 97, 99}\n",
    "set2={3, 4, 8, 12, 14, 16, 17, 19, 20, 21, 22, 24, 25, 26, 27, 30, 31, 34, 35, 37, 38, 39, 40, 43, 45, 46, 49, 50, 51, 52, 54, 56, 57, 59, 60, 61, 62, 64, 67, 68, 69, 72, 73, 74, 76, 77, 82, 84, 87, 88, 89, 90, 92, 93, 94, 96}\n",
    "set3=set1-set2\n",
    "print(set3)"
   ]
  },
  {
   "cell_type": "markdown",
   "metadata": {},
   "source": [
    "#### Identify the elements present in `set2` but not in `set1`. Assign the elements to a new set named `set4`."
   ]
  },
  {
   "cell_type": "code",
   "execution_count": 17,
   "metadata": {},
   "outputs": [
    {
     "name": "stdout",
     "output_type": "stream",
     "text": [
      "{64, 89, 67, 4, 69, 38, 8, 73, 14, 52, 57, 92, 31}\n"
     ]
    }
   ],
   "source": [
    "# Your code here\n",
    "set4=set2-set1\n",
    "print(set4)"
   ]
  },
  {
   "cell_type": "markdown",
   "metadata": {},
   "source": [
    "#### Now Identify the elements shared between `set1` and `set2`. Assign the elements to a new set named `set5`."
   ]
  },
  {
   "cell_type": "code",
   "execution_count": 18,
   "metadata": {
    "scrolled": true
   },
   "outputs": [
    {
     "name": "stdout",
     "output_type": "stream",
     "text": [
      "{3, 12, 16, 17, 19, 20, 21, 22, 24, 25, 26, 27, 30, 34, 35, 37, 39, 40, 43, 45, 46, 49, 50, 51, 54, 56, 59, 60, 61, 62, 68, 72, 74, 76, 77, 82, 84, 87, 88, 90, 93, 94, 96}\n"
     ]
    }
   ],
   "source": [
    "# Your code here\n",
    "set5= set1.intersection(set2)\n",
    "print(set5)"
   ]
  },
  {
   "cell_type": "markdown",
   "metadata": {},
   "source": [
    "#### What is the relationship among the following values:\n",
    "\n",
    "* len(set1)\n",
    "* len(set2)\n",
    "* len(set3)\n",
    "* len(set4)\n",
    "* len(set5)\n",
    "\n",
    "Use a math formular to represent that relationship. Test your formular with Python code."
   ]
  },
  {
   "cell_type": "code",
   "execution_count": 19,
   "metadata": {
    "scrolled": true
   },
   "outputs": [
    {
     "name": "stdout",
     "output_type": "stream",
     "text": [
      "80 56 37 13 43\n"
     ]
    }
   ],
   "source": [
    "# Your code here\n",
    "print(len(set1),len(set2),len(set3),len(set4),len(set5))\n",
    "#TO BE CHECKED "
   ]
  },
  {
   "cell_type": "markdown",
   "metadata": {},
   "source": [
    "#### Create an empty set called `set6`."
   ]
  },
  {
   "cell_type": "code",
   "execution_count": 20,
   "metadata": {},
   "outputs": [],
   "source": [
    "# Your code here\n",
    "set6=set()"
   ]
  },
  {
   "cell_type": "markdown",
   "metadata": {},
   "source": [
    "#### Add `set3` and `set5` to `set6` using the Python Set `update` method."
   ]
  },
  {
   "cell_type": "code",
   "execution_count": 21,
   "metadata": {
    "scrolled": false
   },
   "outputs": [
    {
     "name": "stdout",
     "output_type": "stream",
     "text": [
      "{0, 2, 3, 5, 6, 7, 9, 10, 11, 12, 13, 15, 16, 17, 19, 20, 21, 22, 23, 24, 25, 26, 27, 28, 29, 30, 32, 33, 34, 35, 36, 37, 39, 40, 41, 42, 43, 44, 45, 46, 47, 48, 49, 50, 51, 54, 55, 56, 58, 59, 60, 61, 62, 63, 65, 68, 70, 71, 72, 74, 75, 76, 77, 78, 79, 80, 81, 82, 84, 86, 87, 88, 90, 91, 93, 94, 95, 96, 97, 99}\n"
     ]
    }
   ],
   "source": [
    "# Your code here\n",
    "set3={0, 2, 5, 6, 7, 9, 10, 11, 13, 15, 23, 28, 29, 32, 33, 36, 41, 42, 44, 47, 48, 55, 58, 63, 65, 70, 71, 75, 78, 79, 80, 81, 86, 91, 95, 97, 99}\n",
    "set5={3, 12, 16, 17, 19, 20, 21, 22, 24, 25, 26, 27, 30, 34, 35, 37, 39, 40, 43, 45, 46, 49, 50, 51, 54, 56, 59, 60, 61, 62, 68, 72, 74, 76, 77, 82, 84, 87, 88, 90, 93, 94, 96}\n",
    "set6=set()\n",
    "set6.update(set3,set5)\n",
    "print(set6)"
   ]
  },
  {
   "cell_type": "markdown",
   "metadata": {},
   "source": [
    "#### Check if `set1` and `set6` are equal."
   ]
  },
  {
   "cell_type": "code",
   "execution_count": 23,
   "metadata": {
    "scrolled": true
   },
   "outputs": [
    {
     "name": "stdout",
     "output_type": "stream",
     "text": [
      "False\n"
     ]
    }
   ],
   "source": [
    "# Your code here\n",
    "print(set1-set6==0)\n"
   ]
  },
  {
   "cell_type": "markdown",
   "metadata": {},
   "source": [
    "#### Check if `set1` contains `set2` using the Python Set `issubset` method. Then check if `set1` contains `set3`.*"
   ]
  },
  {
   "cell_type": "code",
   "execution_count": 40,
   "metadata": {},
   "outputs": [
    {
     "name": "stdout",
     "output_type": "stream",
     "text": [
      "False\n",
      "True\n"
     ]
    }
   ],
   "source": [
    "# Your code here\n",
    "print(set2.issubset(set1))\n",
    "print(set3.issubset(set1))"
   ]
  },
  {
   "cell_type": "markdown",
   "metadata": {},
   "source": [
    "#### Using the Python Set `union` method, aggregate `set3`, `set4`, and `set5`. Then aggregate `set1` and `set2`. \n",
    "\n",
    "#### Check if the aggregated values are equal."
   ]
  },
  {
   "cell_type": "code",
   "execution_count": 50,
   "metadata": {},
   "outputs": [
    {
     "name": "stdout",
     "output_type": "stream",
     "text": [
      "True\n"
     ]
    }
   ],
   "source": [
    "# Your code here\n",
    "new_set_1=set3.union(set4,set5)\n",
    "new_set_2=set1.union(set2)\n",
    "print(new_set_1==new_set_2)"
   ]
  },
  {
   "cell_type": "markdown",
   "metadata": {},
   "source": [
    "#### Using the `pop` method, remove the first element from `set1`."
   ]
  },
  {
   "cell_type": "code",
   "execution_count": 24,
   "metadata": {},
   "outputs": [
    {
     "name": "stdout",
     "output_type": "stream",
     "text": [
      "{2, 3, 5, 6, 7, 9, 10, 11, 12, 13, 15, 16, 17, 19, 20, 21, 22, 23, 24, 25, 26, 27, 28, 29, 30, 32, 33, 34, 35, 36, 37, 39, 40, 41, 42, 43, 44, 45, 46, 47, 48, 49, 50, 51, 54, 55, 56, 58, 59, 60, 61, 62, 63, 65, 68, 70, 71, 72, 74, 75, 76, 77, 78, 79, 80, 81, 82, 84, 86, 87, 88, 90, 91, 93, 94, 95, 96, 97, 99}\n"
     ]
    }
   ],
   "source": [
    "# Your code here\n",
    "set1.pop()\n",
    "print(set1)\n",
    "\n"
   ]
  },
  {
   "cell_type": "markdown",
   "metadata": {},
   "source": [
    "#### Remove every element in the following list from `set1` if they are present in the set. Print the remaining elements.\n",
    "\n",
    "```\n",
    "list_to_remove = [1, 9, 11, 19, 21, 29, 31, 39, 41, 49, 51, 59, 61, 69, 71, 79, 81, 89, 91, 99]\n",
    "```"
   ]
  },
  {
   "cell_type": "code",
   "execution_count": 25,
   "metadata": {},
   "outputs": [
    {
     "name": "stdout",
     "output_type": "stream",
     "text": [
      "{2, 3, 5, 6, 7, 10, 12, 13, 15, 16, 17, 20, 22, 23, 24, 25, 26, 27, 28, 30, 32, 33, 34, 35, 36, 37, 40, 42, 43, 44, 45, 46, 47, 48, 50, 54, 55, 56, 58, 60, 62, 63, 65, 68, 70, 72, 74, 75, 76, 77, 78, 80, 82, 84, 86, 87, 88, 90, 93, 94, 95, 96, 97}\n"
     ]
    }
   ],
   "source": [
    "# Your code here\n",
    "list_to_remove= [1, 9, 11, 19, 21, 29, 31, 39, 41, 49, 51, 59, 61, 69, 71, 79, 81, 89, 91, 99]\n",
    "set(list_to_remove)\n",
    "print(set1-set(list_to_remove))"
   ]
  }
 ],
 "metadata": {
  "kernelspec": {
   "display_name": "Python 3",
   "language": "python",
   "name": "python3"
  },
  "language_info": {
   "codemirror_mode": {
    "name": "ipython",
    "version": 3
   },
   "file_extension": ".py",
   "mimetype": "text/x-python",
   "name": "python",
   "nbconvert_exporter": "python",
   "pygments_lexer": "ipython3",
   "version": "3.8.3"
  }
 },
 "nbformat": 4,
 "nbformat_minor": 2
}
