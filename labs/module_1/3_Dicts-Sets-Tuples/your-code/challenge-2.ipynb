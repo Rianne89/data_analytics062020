{
 "cells": [
  {
   "cell_type": "markdown",
   "metadata": {},
   "source": [
    "## Challenge 2: Sets\n",
    "\n",
    "There are a lot to learn about Python Sets and the information presented in the lesson is limited due to its length. To learn Python Sets in depth you are strongly encouraged to review the W3Schools tutorial on [Python Sets Examples and Methods](https://www.w3schools.com/python/python_sets.asp) before you work on this lab. Some difficult questions in this lab have their solutions in the W3Schools tutorial.\n",
    "\n",
    "#### First, import the Python `random` library."
   ]
  },
  {
   "cell_type": "code",
   "execution_count": 221,
   "metadata": {},
   "outputs": [],
   "source": [
    "import random"
   ]
  },
  {
   "cell_type": "markdown",
   "metadata": {},
   "source": [
    "#### In the cell below, create a list named `sample_list_1` with 80 random values. \n",
    "\n",
    "Requirements:\n",
    "\n",
    "* Each value is an integer falling between 0 and 100.\n",
    "* Each value in the list is unique.\n",
    "\n",
    "Print `sample_list_1` to review its values\n",
    "\n",
    "*Hint: use `random.sample` ([reference](https://docs.python.org/3/library/random.html#random.sample)).*"
   ]
  },
  {
   "cell_type": "code",
   "execution_count": 222,
   "metadata": {},
   "outputs": [
    {
     "name": "stdout",
     "output_type": "stream",
     "text": [
      "[66, 42, 86, 12, 56, 9, 40, 55, 4, 54, 46, 87, 48, 58, 30, 63, 22, 37, 57, 44, 25, 29, 16, 88, 33, 3, 19, 2, 20, 17, 99, 52, 89, 94, 69, 96, 97, 78, 1, 8, 10, 50, 76, 90, 83, 70, 34, 21, 77, 82, 71, 41, 26, 59, 27, 43, 32, 84, 98, 93, 38, 39, 18, 74, 91, 79, 28, 68, 92, 45, 24, 81, 5, 73, 75, 51, 15, 11, 14, 35]\n"
     ]
    }
   ],
   "source": [
    "# Your code here\n",
    "\n",
    "sample_list_1 = random.sample(range(1,100),80)\n",
    "print(sample_list_1)"
   ]
  },
  {
   "cell_type": "markdown",
   "metadata": {},
   "source": [
    "#### Convert `sample_list_1` to a set called `set1`. Print the length of the set. Is its length still 80?"
   ]
  },
  {
   "cell_type": "code",
   "execution_count": 223,
   "metadata": {},
   "outputs": [
    {
     "name": "stdout",
     "output_type": "stream",
     "text": [
      "{1, 2, 3, 4, 5, 8, 9, 10, 11, 12, 14, 15, 16, 17, 18, 19, 20, 21, 22, 24, 25, 26, 27, 28, 29, 30, 32, 33, 34, 35, 37, 38, 39, 40, 41, 42, 43, 44, 45, 46, 48, 50, 51, 52, 54, 55, 56, 57, 58, 59, 63, 66, 68, 69, 70, 71, 73, 74, 75, 76, 77, 78, 79, 81, 82, 83, 84, 86, 87, 88, 89, 90, 91, 92, 93, 94, 96, 97, 98, 99}\n"
     ]
    },
    {
     "data": {
      "text/plain": [
       "80"
      ]
     },
     "execution_count": 223,
     "metadata": {},
     "output_type": "execute_result"
    }
   ],
   "source": [
    "# Your code here\n",
    "\n",
    "set1= set(sample_list_1)\n",
    "print(set1)\n",
    "len(set1)\n"
   ]
  },
  {
   "cell_type": "markdown",
   "metadata": {},
   "source": [
    "#### Create another list named `sample_list_2` with 80 random values.\n",
    "\n",
    "Requirements:\n",
    "\n",
    "* Each value is an integer falling between 0 and 100.\n",
    "* The values in the list don't have to be unique.\n",
    "\n",
    "*Hint: Use a FOR loop.*"
   ]
  },
  {
   "cell_type": "code",
   "execution_count": 224,
   "metadata": {},
   "outputs": [
    {
     "name": "stdout",
     "output_type": "stream",
     "text": [
      "[64, 51, 71, 19, 80, 9, 39, 58, 83, 57, 2, 20, 100, 32, 39, 61, 9, 72, 94, 100, 59, 37, 9, 49, 18, 59, 55, 28, 27, 24, 12, 35, 98, 38, 81, 64, 25, 95, 86, 62, 17, 12, 69, 51, 43, 93, 85, 16, 44, 32, 49, 94, 65, 25, 75, 100, 11, 29, 79, 57, 66, 15, 27, 46, 6, 82, 9, 44, 59, 88, 16, 0, 70, 16, 39, 83, 98, 8, 90, 52]\n"
     ]
    }
   ],
   "source": [
    "#random.sample(p,r) for unique elements\n",
    "#random.randint(r) don't need to be unique\n",
    "\n",
    "# Your code here\n",
    "\n",
    "sample_list_2=[]\n",
    "for i in range(80):\n",
    "    sample_list_2.append(random.randint(0, 100))       \n",
    "\n",
    "print (sample_list_2)\n"
   ]
  },
  {
   "cell_type": "markdown",
   "metadata": {},
   "source": [
    "#### Convert `sample_list_2` to a set called `set2`. Print the length of the set. Is its length still 80?"
   ]
  },
  {
   "cell_type": "code",
   "execution_count": 225,
   "metadata": {},
   "outputs": [
    {
     "name": "stdout",
     "output_type": "stream",
     "text": [
      "{0, 2, 6, 8, 9, 11, 12, 15, 16, 17, 18, 19, 20, 24, 25, 27, 28, 29, 32, 35, 37, 38, 39, 43, 44, 46, 49, 51, 52, 55, 57, 58, 59, 61, 62, 64, 65, 66, 69, 70, 71, 72, 75, 79, 80, 81, 82, 83, 85, 86, 88, 90, 93, 94, 95, 98, 100}\n"
     ]
    },
    {
     "data": {
      "text/plain": [
       "57"
      ]
     },
     "execution_count": 225,
     "metadata": {},
     "output_type": "execute_result"
    }
   ],
   "source": [
    "# Your code here\n",
    "\n",
    "set2 = set(sample_list_2)\n",
    "print(set2)\n",
    "len(set2)"
   ]
  },
  {
   "cell_type": "markdown",
   "metadata": {},
   "source": [
    "#### Identify the elements present in `set1` but not in `set2`. Assign the elements to a new set named `set3`."
   ]
  },
  {
   "cell_type": "code",
   "execution_count": 226,
   "metadata": {},
   "outputs": [
    {
     "name": "stdout",
     "output_type": "stream",
     "text": [
      "{1, 3, 4, 5, 10, 14, 21, 22, 26, 30, 33, 34, 40, 41, 42, 45, 48, 50, 54, 56, 63, 68, 73, 74, 76, 77, 78, 84, 87, 89, 91, 92, 96, 97, 99}\n"
     ]
    },
    {
     "data": {
      "text/plain": [
       "35"
      ]
     },
     "execution_count": 226,
     "metadata": {},
     "output_type": "execute_result"
    }
   ],
   "source": [
    "# Your code here\n",
    "\n",
    "\n",
    "set3 = set1.difference(set2)\n",
    "print(set3)\n",
    "len(set3)"
   ]
  },
  {
   "cell_type": "markdown",
   "metadata": {},
   "source": [
    "#### Identify the elements present in `set2` but not in `set1`. Assign the elements to a new set named `set4`."
   ]
  },
  {
   "cell_type": "code",
   "execution_count": 227,
   "metadata": {},
   "outputs": [
    {
     "name": "stdout",
     "output_type": "stream",
     "text": [
      "{0, 64, 65, 100, 6, 72, 80, 49, 85, 61, 62, 95}\n"
     ]
    },
    {
     "data": {
      "text/plain": [
       "12"
      ]
     },
     "execution_count": 227,
     "metadata": {},
     "output_type": "execute_result"
    }
   ],
   "source": [
    "# Your code here\n",
    "\n",
    "set4 = set2.difference(set1)\n",
    "print(set4)\n",
    "len(set4)"
   ]
  },
  {
   "cell_type": "markdown",
   "metadata": {},
   "source": [
    "#### Now Identify the elements shared between `set1` and `set2`. Assign the elements to a new set named `set5`."
   ]
  },
  {
   "cell_type": "code",
   "execution_count": 228,
   "metadata": {},
   "outputs": [
    {
     "name": "stdout",
     "output_type": "stream",
     "text": [
      "{2, 8, 9, 11, 12, 15, 16, 17, 18, 19, 20, 24, 25, 27, 28, 29, 32, 35, 37, 38, 39, 43, 44, 46, 51, 52, 55, 57, 58, 59, 66, 69, 70, 71, 75, 79, 81, 82, 83, 86, 88, 90, 93, 94, 98}\n"
     ]
    }
   ],
   "source": [
    "# Your code here\n",
    "\n",
    "c=[]\n",
    "for i in set1:\n",
    "    for j in set2:\n",
    "        if i == j:\n",
    "            c.append(i)\n",
    "\n",
    "set5 = set(c)\n",
    "print(set5)"
   ]
  },
  {
   "cell_type": "markdown",
   "metadata": {},
   "source": [
    "#### What is the relationship among the following values:\n",
    "\n",
    "* len(set1)\n",
    "* len(set2)\n",
    "* len(set3)\n",
    "* len(set4)\n",
    "* len(set5)\n",
    "\n",
    "Use a math formular to represent that relationship. Test your formular with Python code."
   ]
  },
  {
   "cell_type": "code",
   "execution_count": 229,
   "metadata": {},
   "outputs": [
    {
     "name": "stdout",
     "output_type": "stream",
     "text": [
      "80\n",
      "57\n",
      "35\n",
      "12\n",
      "45\n",
      "True\n",
      "True\n"
     ]
    }
   ],
   "source": [
    "# Your code here\n",
    "\n",
    "s1=len(set1)\n",
    "print(s1)\n",
    "s2=len(set2)\n",
    "print(s2)\n",
    "s3=len(set3)\n",
    "print(s3)\n",
    "s4=len(set4)\n",
    "print(s4)\n",
    "s5=len(set5)\n",
    "print(s5)\n",
    "\n",
    "\n",
    "#set1|set2 = set3(36)      set1 difference set2\n",
    "#set2|set1 = set4(17)      set2 difference set1\n",
    "#set1 ^U set2 = set5(44)   Intersection\n",
    "\n",
    "#Set 1 should be equal to it's difference from set 2 + intersection elements.\n",
    "#Set 2 should be equal to it's difference from set 1 + intersection elements.\n",
    "\n",
    "#set1 = (set1|set2) + set1 ^U set2 == set3(36) + set5(44) which is 80 = 36+44 True.\n",
    "#set2 = (set2|set1) + set1 ^U set2 == set4(17) + set5(44) which is 61 = 17+44 True.\n",
    "\n",
    "a=bool(len(set1) == (len(set3) + len(set5)))\n",
    "b=bool(len(set2) == (len(set4) + len(set5)))\n",
    "print(a)\n",
    "print(b)"
   ]
  },
  {
   "cell_type": "markdown",
   "metadata": {},
   "source": [
    "#### Create an empty set called `set6`."
   ]
  },
  {
   "cell_type": "code",
   "execution_count": 230,
   "metadata": {},
   "outputs": [],
   "source": [
    "# Your code here\n",
    "\n",
    "set6 = set()"
   ]
  },
  {
   "cell_type": "markdown",
   "metadata": {},
   "source": [
    "#### Add `set3` and `set5` to `set6` using the Python Set `update` method."
   ]
  },
  {
   "cell_type": "code",
   "execution_count": 243,
   "metadata": {},
   "outputs": [
    {
     "name": "stdout",
     "output_type": "stream",
     "text": [
      "{1, 3, 4, 5, 10, 14, 21, 22, 26, 30, 33, 34, 40, 41, 42, 45, 48, 50, 54, 56, 63, 68, 73, 74, 76, 77, 78, 84, 87, 89, 91, 92, 96, 97, 99}\n",
      "{2, 8, 9, 11, 12, 15, 16, 17, 18, 19, 20, 24, 25, 27, 28, 29, 32, 35, 37, 38, 39, 43, 44, 46, 51, 52, 55, 57, 58, 59, 66, 69, 70, 71, 75, 79, 81, 82, 83, 86, 88, 90, 93, 94, 98}\n"
     ]
    }
   ],
   "source": [
    "# Your code here\n",
    "print(set3)\n",
    "print(set5)\n",
    "\n",
    "set6 = set3.union(set5)\n",
    "\n",
    "\n",
    "#.update gives NoneType object. Don't understand how can I check it's length if it is NoneType :| Can do by converting \n",
    "#them to a list but not sure if it's what question wants.\n",
    "\n",
    "#set6.update(set3)\n",
    "#set6.update(set5)"
   ]
  },
  {
   "cell_type": "markdown",
   "metadata": {},
   "source": [
    "#### Check if `set1` and `set6` are equal."
   ]
  },
  {
   "cell_type": "code",
   "execution_count": 232,
   "metadata": {},
   "outputs": [
    {
     "data": {
      "text/plain": [
       "True"
      ]
     },
     "execution_count": 232,
     "metadata": {},
     "output_type": "execute_result"
    }
   ],
   "source": [
    "# Your code here\n",
    "\n",
    "len(set1) == len(set6)"
   ]
  },
  {
   "cell_type": "markdown",
   "metadata": {},
   "source": [
    "#### Check if `set1` contains `set2` using the Python Set `issubset` method. Then check if `set1` contains `set3`.*"
   ]
  },
  {
   "cell_type": "code",
   "execution_count": 233,
   "metadata": {},
   "outputs": [
    {
     "name": "stdout",
     "output_type": "stream",
     "text": [
      "False\n",
      "True\n"
     ]
    }
   ],
   "source": [
    "# Your code here\n",
    "\n",
    "print(set2.issubset(set1))\n",
    "print(set3.issubset(set1))\n"
   ]
  },
  {
   "cell_type": "markdown",
   "metadata": {},
   "source": [
    "#### Using the Python Set `union` method, aggregate `set3`, `set4`, and `set5`. Then aggregate `set1` and `set2`. \n",
    "\n",
    "#### Check if the aggregated values are equal."
   ]
  },
  {
   "cell_type": "code",
   "execution_count": 234,
   "metadata": {},
   "outputs": [
    {
     "data": {
      "text/plain": [
       "True"
      ]
     },
     "execution_count": 234,
     "metadata": {},
     "output_type": "execute_result"
    }
   ],
   "source": [
    "# Your code here\n",
    "\n",
    "set345 = set3.union(set4,set5)\n",
    "set12 = set1.union(set2)\n",
    "\n",
    "len(set345) == len(set12)"
   ]
  },
  {
   "cell_type": "markdown",
   "metadata": {},
   "source": [
    "#### Using the `pop` method, remove the first element from `set1`."
   ]
  },
  {
   "cell_type": "code",
   "execution_count": 235,
   "metadata": {},
   "outputs": [
    {
     "name": "stdout",
     "output_type": "stream",
     "text": [
      "1\n"
     ]
    }
   ],
   "source": [
    "# Your code here\n",
    "\n",
    "set1_1 = set1.pop()\n",
    "print(set1_1)"
   ]
  },
  {
   "cell_type": "markdown",
   "metadata": {},
   "source": [
    "#### Remove every element in the following list from `set1` if they are present in the set. Print the remaining elements.\n",
    "\n",
    "```\n",
    "list_to_remove = [1, 9, 11, 19, 21, 29, 31, 39, 41, 49, 51, 59, 61, 69, 71, 79, 81, 89, 91, 99]\n",
    "```"
   ]
  },
  {
   "cell_type": "code",
   "execution_count": 236,
   "metadata": {},
   "outputs": [
    {
     "name": "stdout",
     "output_type": "stream",
     "text": [
      "{2, 3, 4, 5, 8, 10, 12, 14, 15, 16, 17, 18, 20, 22, 24, 25, 26, 27, 28, 30, 32, 33, 34, 35, 37, 38, 40, 42, 43, 44, 45, 46, 48, 50, 52, 54, 55, 56, 57, 58, 63, 66, 68, 70, 73, 74, 75, 76, 77, 78, 82, 83, 84, 86, 87, 88, 90, 92, 93, 94, 96, 97, 98}\n"
     ]
    }
   ],
   "source": [
    "# Your code here\n",
    "\n",
    "list_to_remove = [1, 9, 11, 19, 21, 29, 31, 39, 41, 49, 51, 59, 61, 69, 71, 79, 81, 89, 91, 99]\n",
    "\n",
    "set_remaining = set1.difference(set(list_to_remove))\n",
    "print(set_remaining)\n",
    "\n"
   ]
  }
 ],
 "metadata": {
  "kernelspec": {
   "display_name": "Python 3",
   "language": "python",
   "name": "python3"
  },
  "language_info": {
   "codemirror_mode": {
    "name": "ipython",
    "version": 3
   },
   "file_extension": ".py",
   "mimetype": "text/x-python",
   "name": "python",
   "nbconvert_exporter": "python",
   "pygments_lexer": "ipython3",
   "version": "3.7.4"
  }
 },
 "nbformat": 4,
 "nbformat_minor": 2
}
