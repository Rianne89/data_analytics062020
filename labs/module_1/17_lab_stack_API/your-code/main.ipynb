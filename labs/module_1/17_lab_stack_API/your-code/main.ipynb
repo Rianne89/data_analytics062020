{
 "cells": [
  {
   "cell_type": "markdown",
   "metadata": {
    "Collapsed": "false"
   },
   "source": [
    "# StackAPI\n",
    "\n",
    "#### Import the necessary libraries here:"
   ]
  },
  {
   "cell_type": "code",
   "execution_count": 1,
   "metadata": {
    "Collapsed": "false"
   },
   "outputs": [],
   "source": [
    "import pandas as pd"
   ]
  },
  {
   "cell_type": "code",
   "execution_count": 2,
   "metadata": {},
   "outputs": [
    {
     "name": "stdout",
     "output_type": "stream",
     "text": [
      "Requirement already satisfied: StackAPI in c:\\users\\merti\\anaconda3\\lib\\site-packages (0.1.12)\n",
      "Requirement already satisfied: requests in c:\\users\\merti\\anaconda3\\lib\\site-packages (from StackAPI) (2.22.0)\n",
      "Requirement already satisfied: chardet<3.1.0,>=3.0.2 in c:\\users\\merti\\anaconda3\\lib\\site-packages (from requests->StackAPI) (3.0.4)\n",
      "Requirement already satisfied: urllib3!=1.25.0,!=1.25.1,<1.26,>=1.21.1 in c:\\users\\merti\\anaconda3\\lib\\site-packages (from requests->StackAPI) (1.24.2)\n",
      "Requirement already satisfied: idna<2.9,>=2.5 in c:\\users\\merti\\anaconda3\\lib\\site-packages (from requests->StackAPI) (2.8)\n",
      "Requirement already satisfied: certifi>=2017.4.17 in c:\\users\\merti\\anaconda3\\lib\\site-packages (from requests->StackAPI) (2019.9.11)\n",
      "Note: you may need to restart the kernel to use updated packages.\n"
     ]
    }
   ],
   "source": [
    "pip install StackAPI"
   ]
  },
  {
   "cell_type": "code",
   "execution_count": 3,
   "metadata": {
    "Collapsed": "false"
   },
   "outputs": [],
   "source": [
    "# import the necessary libraries here\n",
    "from stackapi import StackAPI, StackAPIError"
   ]
  },
  {
   "cell_type": "code",
   "execution_count": 4,
   "metadata": {
    "Collapsed": "false"
   },
   "outputs": [],
   "source": [
    "# run the code below\n",
    "from stackapi import StackAPI, StackAPIError\n",
    "SITE = StackAPI('stackoverflow')\n",
    "comments = SITE.fetch('comments')\n",
    "#fetch is similar to get"
   ]
  },
  {
   "cell_type": "markdown",
   "metadata": {
    "Collapsed": "false"
   },
   "source": [
    "Before you start with the lab, please be aware that all the relevant information regarding the StackAPI can be found here: https://stackapi.readthedocs.io/en/latest/user/advanced.html#calling-fetch-with-various-api-parameters"
   ]
  },
  {
   "cell_type": "markdown",
   "metadata": {
    "Collapsed": "false"
   },
   "source": [
    "#### Question 1: Find the questions and answers of last month.\n",
    "\n",
    "*hint*: use the fromdate and todate arguments."
   ]
  },
  {
   "cell_type": "code",
   "execution_count": 5,
   "metadata": {
    "Collapsed": "false"
   },
   "outputs": [
    {
     "data": {
      "text/html": [
       "<div>\n",
       "<style scoped>\n",
       "    .dataframe tbody tr th:only-of-type {\n",
       "        vertical-align: middle;\n",
       "    }\n",
       "\n",
       "    .dataframe tbody tr th {\n",
       "        vertical-align: top;\n",
       "    }\n",
       "\n",
       "    .dataframe thead th {\n",
       "        text-align: right;\n",
       "    }\n",
       "</style>\n",
       "<table border=\"1\" class=\"dataframe\">\n",
       "  <thead>\n",
       "    <tr style=\"text-align: right;\">\n",
       "      <th></th>\n",
       "      <th>backoff</th>\n",
       "      <th>has_more</th>\n",
       "      <th>page</th>\n",
       "      <th>quota_max</th>\n",
       "      <th>quota_remaining</th>\n",
       "      <th>total</th>\n",
       "      <th>items</th>\n",
       "    </tr>\n",
       "  </thead>\n",
       "  <tbody>\n",
       "    <tr>\n",
       "      <td>0</td>\n",
       "      <td>0</td>\n",
       "      <td>True</td>\n",
       "      <td>5</td>\n",
       "      <td>300</td>\n",
       "      <td>300</td>\n",
       "      <td>0</td>\n",
       "      <td>{'tags': ['python-3.x', 'pyinstaller', 'discor...</td>\n",
       "    </tr>\n",
       "    <tr>\n",
       "      <td>1</td>\n",
       "      <td>0</td>\n",
       "      <td>True</td>\n",
       "      <td>5</td>\n",
       "      <td>300</td>\n",
       "      <td>300</td>\n",
       "      <td>0</td>\n",
       "      <td>{'tags': ['symfony'], 'owner': {'reputation': ...</td>\n",
       "    </tr>\n",
       "    <tr>\n",
       "      <td>2</td>\n",
       "      <td>0</td>\n",
       "      <td>True</td>\n",
       "      <td>5</td>\n",
       "      <td>300</td>\n",
       "      <td>300</td>\n",
       "      <td>0</td>\n",
       "      <td>{'tags': ['javascript', 'jquery', 'css', 'reac...</td>\n",
       "    </tr>\n",
       "    <tr>\n",
       "      <td>3</td>\n",
       "      <td>0</td>\n",
       "      <td>True</td>\n",
       "      <td>5</td>\n",
       "      <td>300</td>\n",
       "      <td>300</td>\n",
       "      <td>0</td>\n",
       "      <td>{'tags': ['ip-address', 'ipv6', 'endpoint', 't...</td>\n",
       "    </tr>\n",
       "    <tr>\n",
       "      <td>4</td>\n",
       "      <td>0</td>\n",
       "      <td>True</td>\n",
       "      <td>5</td>\n",
       "      <td>300</td>\n",
       "      <td>300</td>\n",
       "      <td>0</td>\n",
       "      <td>{'tags': ['java', 'python', 'debugging', 'mine...</td>\n",
       "    </tr>\n",
       "  </tbody>\n",
       "</table>\n",
       "</div>"
      ],
      "text/plain": [
       "   backoff  has_more  page  quota_max  quota_remaining  total  \\\n",
       "0        0      True     5        300              300      0   \n",
       "1        0      True     5        300              300      0   \n",
       "2        0      True     5        300              300      0   \n",
       "3        0      True     5        300              300      0   \n",
       "4        0      True     5        300              300      0   \n",
       "\n",
       "                                               items  \n",
       "0  {'tags': ['python-3.x', 'pyinstaller', 'discor...  \n",
       "1  {'tags': ['symfony'], 'owner': {'reputation': ...  \n",
       "2  {'tags': ['javascript', 'jquery', 'css', 'reac...  \n",
       "3  {'tags': ['ip-address', 'ipv6', 'endpoint', 't...  \n",
       "4  {'tags': ['java', 'python', 'debugging', 'mine...  "
      ]
     },
     "execution_count": 5,
     "metadata": {},
     "output_type": "execute_result"
    }
   ],
   "source": [
    "# your code here\n",
    "import pandas as pd\n",
    "from stackapi import StackAPI, StackAPIError\n",
    "SITE = StackAPI('stackoverflow')\n",
    "questions = SITE.fetch('questions', fromdate =1593554400, todate=1596146400)#used datetime to convert time into Epoch time which is used in StackAPI\n",
    "#fetch is similar to get\n",
    "\n",
    "questions = pd.DataFrame(questions)\n",
    "questions.head()"
   ]
  },
  {
   "cell_type": "code",
   "execution_count": 6,
   "metadata": {},
   "outputs": [
    {
     "data": {
      "text/plain": [
       "backoff            500\n",
       "has_more           500\n",
       "page               500\n",
       "quota_max          500\n",
       "quota_remaining    500\n",
       "total              500\n",
       "items              500\n",
       "dtype: int64"
      ]
     },
     "execution_count": 6,
     "metadata": {},
     "output_type": "execute_result"
    }
   ],
   "source": [
    "questions.count()"
   ]
  },
  {
   "cell_type": "code",
   "execution_count": 7,
   "metadata": {},
   "outputs": [
    {
     "data": {
      "text/plain": [
       "1593554400.0"
      ]
     },
     "execution_count": 7,
     "metadata": {},
     "output_type": "execute_result"
    }
   ],
   "source": [
    "import datetime\n",
    "datetime.datetime(2020,7,1,0,0).timestamp()"
   ]
  },
  {
   "cell_type": "code",
   "execution_count": 8,
   "metadata": {},
   "outputs": [
    {
     "data": {
      "text/plain": [
       "1596146400.0"
      ]
     },
     "execution_count": 8,
     "metadata": {},
     "output_type": "execute_result"
    }
   ],
   "source": [
    "datetime.datetime(2020,7,31,0,0).timestamp()"
   ]
  },
  {
   "cell_type": "code",
   "execution_count": 9,
   "metadata": {},
   "outputs": [],
   "source": [
    "def flatten(questions, col_list):\n",
    "    for column in col_list:\n",
    "        flattened = pd.DataFrame(dict(questions[column])).transpose()\n",
    "        columns = [str(col) for col in flattened.columns]\n",
    "        flattened.columns = [column + '_' + colname for colname in columns]\n",
    "        data = pd.concat([questions, flattened], axis=1)\n",
    "        data = data.drop(column, axis=1)\n",
    "    return data"
   ]
  },
  {
   "cell_type": "code",
   "execution_count": 11,
   "metadata": {},
   "outputs": [
    {
     "data": {
      "text/html": [
       "<div>\n",
       "<style scoped>\n",
       "    .dataframe tbody tr th:only-of-type {\n",
       "        vertical-align: middle;\n",
       "    }\n",
       "\n",
       "    .dataframe tbody tr th {\n",
       "        vertical-align: top;\n",
       "    }\n",
       "\n",
       "    .dataframe thead th {\n",
       "        text-align: right;\n",
       "    }\n",
       "</style>\n",
       "<table border=\"1\" class=\"dataframe\">\n",
       "  <thead>\n",
       "    <tr style=\"text-align: right;\">\n",
       "      <th></th>\n",
       "      <th>backoff</th>\n",
       "      <th>has_more</th>\n",
       "      <th>page</th>\n",
       "      <th>quota_max</th>\n",
       "      <th>quota_remaining</th>\n",
       "      <th>total</th>\n",
       "      <th>items_tags</th>\n",
       "      <th>items_owner</th>\n",
       "      <th>items_is_answered</th>\n",
       "      <th>items_view_count</th>\n",
       "      <th>...</th>\n",
       "      <th>items_question_id</th>\n",
       "      <th>items_content_license</th>\n",
       "      <th>items_link</th>\n",
       "      <th>items_title</th>\n",
       "      <th>items_last_edit_date</th>\n",
       "      <th>items_bounty_amount</th>\n",
       "      <th>items_bounty_closes_date</th>\n",
       "      <th>items_closed_date</th>\n",
       "      <th>items_closed_reason</th>\n",
       "      <th>items_accepted_answer_id</th>\n",
       "    </tr>\n",
       "  </thead>\n",
       "  <tbody>\n",
       "    <tr>\n",
       "      <td>0</td>\n",
       "      <td>0</td>\n",
       "      <td>True</td>\n",
       "      <td>5</td>\n",
       "      <td>300</td>\n",
       "      <td>300</td>\n",
       "      <td>0</td>\n",
       "      <td>[python-3.x, pyinstaller, discord.py]</td>\n",
       "      <td>{'reputation': 1, 'user_id': 14023243, 'user_t...</td>\n",
       "      <td>False</td>\n",
       "      <td>22</td>\n",
       "      <td>...</td>\n",
       "      <td>63177800</td>\n",
       "      <td>CC BY-SA 4.0</td>\n",
       "      <td>https://stackoverflow.com/questions/63177800/p...</td>\n",
       "      <td>Problem using PyInstaller with a discord bot a...</td>\n",
       "      <td>NaN</td>\n",
       "      <td>NaN</td>\n",
       "      <td>NaN</td>\n",
       "      <td>NaN</td>\n",
       "      <td>NaN</td>\n",
       "      <td>NaN</td>\n",
       "    </tr>\n",
       "    <tr>\n",
       "      <td>1</td>\n",
       "      <td>0</td>\n",
       "      <td>True</td>\n",
       "      <td>5</td>\n",
       "      <td>300</td>\n",
       "      <td>300</td>\n",
       "      <td>0</td>\n",
       "      <td>[symfony]</td>\n",
       "      <td>{'reputation': 1, 'user_id': 13935712, 'user_t...</td>\n",
       "      <td>False</td>\n",
       "      <td>55</td>\n",
       "      <td>...</td>\n",
       "      <td>62915762</td>\n",
       "      <td>CC BY-SA 4.0</td>\n",
       "      <td>https://stackoverflow.com/questions/62915762/s...</td>\n",
       "      <td>Symfony messenger:consume not working (no exce...</td>\n",
       "      <td>1596980000</td>\n",
       "      <td>NaN</td>\n",
       "      <td>NaN</td>\n",
       "      <td>NaN</td>\n",
       "      <td>NaN</td>\n",
       "      <td>NaN</td>\n",
       "    </tr>\n",
       "    <tr>\n",
       "      <td>2</td>\n",
       "      <td>0</td>\n",
       "      <td>True</td>\n",
       "      <td>5</td>\n",
       "      <td>300</td>\n",
       "      <td>300</td>\n",
       "      <td>0</td>\n",
       "      <td>[javascript, jquery, css, reactjs]</td>\n",
       "      <td>{'reputation': 1203, 'user_id': 592638, 'user_...</td>\n",
       "      <td>False</td>\n",
       "      <td>35</td>\n",
       "      <td>...</td>\n",
       "      <td>63181212</td>\n",
       "      <td>CC BY-SA 4.0</td>\n",
       "      <td>https://stackoverflow.com/questions/63181212/r...</td>\n",
       "      <td>Resize with scale - convert jquery to React JS</td>\n",
       "      <td>NaN</td>\n",
       "      <td>100</td>\n",
       "      <td>1597573826</td>\n",
       "      <td>NaN</td>\n",
       "      <td>NaN</td>\n",
       "      <td>NaN</td>\n",
       "    </tr>\n",
       "    <tr>\n",
       "      <td>3</td>\n",
       "      <td>0</td>\n",
       "      <td>True</td>\n",
       "      <td>5</td>\n",
       "      <td>300</td>\n",
       "      <td>300</td>\n",
       "      <td>0</td>\n",
       "      <td>[ip-address, ipv6, endpoint, tunnel]</td>\n",
       "      <td>{'reputation': 368, 'user_id': 2608530, 'user_...</td>\n",
       "      <td>False</td>\n",
       "      <td>45</td>\n",
       "      <td>...</td>\n",
       "      <td>63180233</td>\n",
       "      <td>CC BY-SA 4.0</td>\n",
       "      <td>https://stackoverflow.com/questions/63180233/e...</td>\n",
       "      <td>ERR_ADDRESS_UNREACHABLE for Hurricane Electric...</td>\n",
       "      <td>1596979061</td>\n",
       "      <td>100</td>\n",
       "      <td>1596991818</td>\n",
       "      <td>NaN</td>\n",
       "      <td>NaN</td>\n",
       "      <td>NaN</td>\n",
       "    </tr>\n",
       "    <tr>\n",
       "      <td>4</td>\n",
       "      <td>0</td>\n",
       "      <td>True</td>\n",
       "      <td>5</td>\n",
       "      <td>300</td>\n",
       "      <td>300</td>\n",
       "      <td>0</td>\n",
       "      <td>[java, python, debugging, minecraft, data-coll...</td>\n",
       "      <td>{'reputation': 11, 'user_id': 14005064, 'user_...</td>\n",
       "      <td>False</td>\n",
       "      <td>34</td>\n",
       "      <td>...</td>\n",
       "      <td>63121321</td>\n",
       "      <td>CC BY-SA 4.0</td>\n",
       "      <td>https://stackoverflow.com/questions/63121321/g...</td>\n",
       "      <td>Getting Minecraft debug data</td>\n",
       "      <td>NaN</td>\n",
       "      <td>NaN</td>\n",
       "      <td>NaN</td>\n",
       "      <td>NaN</td>\n",
       "      <td>NaN</td>\n",
       "      <td>NaN</td>\n",
       "    </tr>\n",
       "    <tr>\n",
       "      <td>5</td>\n",
       "      <td>0</td>\n",
       "      <td>True</td>\n",
       "      <td>5</td>\n",
       "      <td>300</td>\n",
       "      <td>300</td>\n",
       "      <td>0</td>\n",
       "      <td>[python, machine-learning, classification, dat...</td>\n",
       "      <td>{'reputation': 131, 'user_id': 13122452, 'user...</td>\n",
       "      <td>False</td>\n",
       "      <td>28</td>\n",
       "      <td>...</td>\n",
       "      <td>63153211</td>\n",
       "      <td>NaN</td>\n",
       "      <td>https://stackoverflow.com/questions/63153211/h...</td>\n",
       "      <td>How do i create a classifier on dataset of sen...</td>\n",
       "      <td>1596978040</td>\n",
       "      <td>NaN</td>\n",
       "      <td>NaN</td>\n",
       "      <td>1596030784</td>\n",
       "      <td>Not suitable for this site</td>\n",
       "      <td>NaN</td>\n",
       "    </tr>\n",
       "    <tr>\n",
       "      <td>6</td>\n",
       "      <td>0</td>\n",
       "      <td>True</td>\n",
       "      <td>5</td>\n",
       "      <td>300</td>\n",
       "      <td>300</td>\n",
       "      <td>0</td>\n",
       "      <td>[arrays, algorithm, math, dynamic-programming,...</td>\n",
       "      <td>{'reputation': 466, 'user_id': 9312181, 'user_...</td>\n",
       "      <td>True</td>\n",
       "      <td>129</td>\n",
       "      <td>...</td>\n",
       "      <td>62908470</td>\n",
       "      <td>CC BY-SA 4.0</td>\n",
       "      <td>https://stackoverflow.com/questions/62908470/n...</td>\n",
       "      <td>Number of ways to form array using only 3 elem...</td>\n",
       "      <td>1595141544</td>\n",
       "      <td>50</td>\n",
       "      <td>1597568220</td>\n",
       "      <td>NaN</td>\n",
       "      <td>NaN</td>\n",
       "      <td>NaN</td>\n",
       "    </tr>\n",
       "    <tr>\n",
       "      <td>7</td>\n",
       "      <td>0</td>\n",
       "      <td>True</td>\n",
       "      <td>5</td>\n",
       "      <td>300</td>\n",
       "      <td>300</td>\n",
       "      <td>0</td>\n",
       "      <td>[mysql, python-3.x, pip, raspberry-pi, mariadb]</td>\n",
       "      <td>{'reputation': 1, 'user_id': 13973651, 'user_t...</td>\n",
       "      <td>False</td>\n",
       "      <td>109</td>\n",
       "      <td>...</td>\n",
       "      <td>63027020</td>\n",
       "      <td>CC BY-SA 4.0</td>\n",
       "      <td>https://stackoverflow.com/questions/63027020/p...</td>\n",
       "      <td>Problem with pip install mariadb - mariadb_con...</td>\n",
       "      <td>NaN</td>\n",
       "      <td>NaN</td>\n",
       "      <td>NaN</td>\n",
       "      <td>NaN</td>\n",
       "      <td>NaN</td>\n",
       "      <td>NaN</td>\n",
       "    </tr>\n",
       "    <tr>\n",
       "      <td>8</td>\n",
       "      <td>0</td>\n",
       "      <td>True</td>\n",
       "      <td>5</td>\n",
       "      <td>300</td>\n",
       "      <td>300</td>\n",
       "      <td>0</td>\n",
       "      <td>[python]</td>\n",
       "      <td>{'reputation': 11, 'user_id': 13297222, 'user_...</td>\n",
       "      <td>False</td>\n",
       "      <td>40</td>\n",
       "      <td>...</td>\n",
       "      <td>63091381</td>\n",
       "      <td>CC BY-SA 4.0</td>\n",
       "      <td>https://stackoverflow.com/questions/63091381/w...</td>\n",
       "      <td>When must I use super() to call superclass met...</td>\n",
       "      <td>1596976915</td>\n",
       "      <td>NaN</td>\n",
       "      <td>NaN</td>\n",
       "      <td>NaN</td>\n",
       "      <td>NaN</td>\n",
       "      <td>NaN</td>\n",
       "    </tr>\n",
       "    <tr>\n",
       "      <td>9</td>\n",
       "      <td>0</td>\n",
       "      <td>True</td>\n",
       "      <td>5</td>\n",
       "      <td>300</td>\n",
       "      <td>300</td>\n",
       "      <td>0</td>\n",
       "      <td>[hyperledger, hyperledger-sawtooth]</td>\n",
       "      <td>{'reputation': 79, 'user_id': 10873235, 'user_...</td>\n",
       "      <td>False</td>\n",
       "      <td>20</td>\n",
       "      <td>...</td>\n",
       "      <td>62891217</td>\n",
       "      <td>CC BY-SA 4.0</td>\n",
       "      <td>https://stackoverflow.com/questions/62891217/h...</td>\n",
       "      <td>How to monitor a Sawtooth network in Docker co...</td>\n",
       "      <td>NaN</td>\n",
       "      <td>NaN</td>\n",
       "      <td>NaN</td>\n",
       "      <td>NaN</td>\n",
       "      <td>NaN</td>\n",
       "      <td>NaN</td>\n",
       "    </tr>\n",
       "  </tbody>\n",
       "</table>\n",
       "<p>10 rows × 24 columns</p>\n",
       "</div>"
      ],
      "text/plain": [
       "   backoff  has_more  page  quota_max  quota_remaining  total  \\\n",
       "0        0      True     5        300              300      0   \n",
       "1        0      True     5        300              300      0   \n",
       "2        0      True     5        300              300      0   \n",
       "3        0      True     5        300              300      0   \n",
       "4        0      True     5        300              300      0   \n",
       "5        0      True     5        300              300      0   \n",
       "6        0      True     5        300              300      0   \n",
       "7        0      True     5        300              300      0   \n",
       "8        0      True     5        300              300      0   \n",
       "9        0      True     5        300              300      0   \n",
       "\n",
       "                                          items_tags  \\\n",
       "0              [python-3.x, pyinstaller, discord.py]   \n",
       "1                                          [symfony]   \n",
       "2                 [javascript, jquery, css, reactjs]   \n",
       "3               [ip-address, ipv6, endpoint, tunnel]   \n",
       "4  [java, python, debugging, minecraft, data-coll...   \n",
       "5  [python, machine-learning, classification, dat...   \n",
       "6  [arrays, algorithm, math, dynamic-programming,...   \n",
       "7    [mysql, python-3.x, pip, raspberry-pi, mariadb]   \n",
       "8                                           [python]   \n",
       "9                [hyperledger, hyperledger-sawtooth]   \n",
       "\n",
       "                                         items_owner items_is_answered  \\\n",
       "0  {'reputation': 1, 'user_id': 14023243, 'user_t...             False   \n",
       "1  {'reputation': 1, 'user_id': 13935712, 'user_t...             False   \n",
       "2  {'reputation': 1203, 'user_id': 592638, 'user_...             False   \n",
       "3  {'reputation': 368, 'user_id': 2608530, 'user_...             False   \n",
       "4  {'reputation': 11, 'user_id': 14005064, 'user_...             False   \n",
       "5  {'reputation': 131, 'user_id': 13122452, 'user...             False   \n",
       "6  {'reputation': 466, 'user_id': 9312181, 'user_...              True   \n",
       "7  {'reputation': 1, 'user_id': 13973651, 'user_t...             False   \n",
       "8  {'reputation': 11, 'user_id': 13297222, 'user_...             False   \n",
       "9  {'reputation': 79, 'user_id': 10873235, 'user_...             False   \n",
       "\n",
       "  items_view_count  ... items_question_id items_content_license  \\\n",
       "0               22  ...          63177800          CC BY-SA 4.0   \n",
       "1               55  ...          62915762          CC BY-SA 4.0   \n",
       "2               35  ...          63181212          CC BY-SA 4.0   \n",
       "3               45  ...          63180233          CC BY-SA 4.0   \n",
       "4               34  ...          63121321          CC BY-SA 4.0   \n",
       "5               28  ...          63153211                   NaN   \n",
       "6              129  ...          62908470          CC BY-SA 4.0   \n",
       "7              109  ...          63027020          CC BY-SA 4.0   \n",
       "8               40  ...          63091381          CC BY-SA 4.0   \n",
       "9               20  ...          62891217          CC BY-SA 4.0   \n",
       "\n",
       "                                          items_link  \\\n",
       "0  https://stackoverflow.com/questions/63177800/p...   \n",
       "1  https://stackoverflow.com/questions/62915762/s...   \n",
       "2  https://stackoverflow.com/questions/63181212/r...   \n",
       "3  https://stackoverflow.com/questions/63180233/e...   \n",
       "4  https://stackoverflow.com/questions/63121321/g...   \n",
       "5  https://stackoverflow.com/questions/63153211/h...   \n",
       "6  https://stackoverflow.com/questions/62908470/n...   \n",
       "7  https://stackoverflow.com/questions/63027020/p...   \n",
       "8  https://stackoverflow.com/questions/63091381/w...   \n",
       "9  https://stackoverflow.com/questions/62891217/h...   \n",
       "\n",
       "                                         items_title items_last_edit_date  \\\n",
       "0  Problem using PyInstaller with a discord bot a...                  NaN   \n",
       "1  Symfony messenger:consume not working (no exce...           1596980000   \n",
       "2     Resize with scale - convert jquery to React JS                  NaN   \n",
       "3  ERR_ADDRESS_UNREACHABLE for Hurricane Electric...           1596979061   \n",
       "4                       Getting Minecraft debug data                  NaN   \n",
       "5  How do i create a classifier on dataset of sen...           1596978040   \n",
       "6  Number of ways to form array using only 3 elem...           1595141544   \n",
       "7  Problem with pip install mariadb - mariadb_con...                  NaN   \n",
       "8  When must I use super() to call superclass met...           1596976915   \n",
       "9  How to monitor a Sawtooth network in Docker co...                  NaN   \n",
       "\n",
       "  items_bounty_amount items_bounty_closes_date items_closed_date  \\\n",
       "0                 NaN                      NaN               NaN   \n",
       "1                 NaN                      NaN               NaN   \n",
       "2                 100               1597573826               NaN   \n",
       "3                 100               1596991818               NaN   \n",
       "4                 NaN                      NaN               NaN   \n",
       "5                 NaN                      NaN        1596030784   \n",
       "6                  50               1597568220               NaN   \n",
       "7                 NaN                      NaN               NaN   \n",
       "8                 NaN                      NaN               NaN   \n",
       "9                 NaN                      NaN               NaN   \n",
       "\n",
       "          items_closed_reason items_accepted_answer_id  \n",
       "0                         NaN                      NaN  \n",
       "1                         NaN                      NaN  \n",
       "2                         NaN                      NaN  \n",
       "3                         NaN                      NaN  \n",
       "4                         NaN                      NaN  \n",
       "5  Not suitable for this site                      NaN  \n",
       "6                         NaN                      NaN  \n",
       "7                         NaN                      NaN  \n",
       "8                         NaN                      NaN  \n",
       "9                         NaN                      NaN  \n",
       "\n",
       "[10 rows x 24 columns]"
      ]
     },
     "execution_count": 11,
     "metadata": {},
     "output_type": "execute_result"
    }
   ],
   "source": [
    "nested_columns = ['items']\n",
    " \n",
    "flat = flatten(questions, nested_columns)\n",
    "flat.head(10)"
   ]
  },
  {
   "cell_type": "markdown",
   "metadata": {
    "Collapsed": "false"
   },
   "source": [
    "#### Question 2: Find the most voted question today with at least a score of 5 and tagged with 'python'. "
   ]
  },
  {
   "cell_type": "code",
   "execution_count": 12,
   "metadata": {
    "Collapsed": "false"
   },
   "outputs": [
    {
     "data": {
      "text/html": [
       "<div>\n",
       "<style scoped>\n",
       "    .dataframe tbody tr th:only-of-type {\n",
       "        vertical-align: middle;\n",
       "    }\n",
       "\n",
       "    .dataframe tbody tr th {\n",
       "        vertical-align: top;\n",
       "    }\n",
       "\n",
       "    .dataframe thead th {\n",
       "        text-align: right;\n",
       "    }\n",
       "</style>\n",
       "<table border=\"1\" class=\"dataframe\">\n",
       "  <thead>\n",
       "    <tr style=\"text-align: right;\">\n",
       "      <th></th>\n",
       "      <th>backoff</th>\n",
       "      <th>has_more</th>\n",
       "      <th>page</th>\n",
       "      <th>quota_max</th>\n",
       "      <th>quota_remaining</th>\n",
       "      <th>total</th>\n",
       "      <th>items</th>\n",
       "    </tr>\n",
       "  </thead>\n",
       "  <tbody>\n",
       "    <tr>\n",
       "      <td>0</td>\n",
       "      <td>0</td>\n",
       "      <td>False</td>\n",
       "      <td>1</td>\n",
       "      <td>300</td>\n",
       "      <td>300</td>\n",
       "      <td>0</td>\n",
       "      <td>{'tags': ['python', 'pandas', 'matplotlib', 'r...</td>\n",
       "    </tr>\n",
       "    <tr>\n",
       "      <td>1</td>\n",
       "      <td>0</td>\n",
       "      <td>False</td>\n",
       "      <td>1</td>\n",
       "      <td>300</td>\n",
       "      <td>300</td>\n",
       "      <td>0</td>\n",
       "      <td>{'tags': ['python', 'memory', 'memory-manageme...</td>\n",
       "    </tr>\n",
       "  </tbody>\n",
       "</table>\n",
       "</div>"
      ],
      "text/plain": [
       "   backoff  has_more  page  quota_max  quota_remaining  total  \\\n",
       "0        0     False     1        300              300      0   \n",
       "1        0     False     1        300              300      0   \n",
       "\n",
       "                                               items  \n",
       "0  {'tags': ['python', 'pandas', 'matplotlib', 'r...  \n",
       "1  {'tags': ['python', 'memory', 'memory-manageme...  "
      ]
     },
     "execution_count": 12,
     "metadata": {},
     "output_type": "execute_result"
    }
   ],
   "source": [
    "# your code here\n",
    "import pandas as pd\n",
    "from stackapi import StackAPI, StackAPIError\n",
    "SITE = StackAPI('stackoverflow')\n",
    "questions_today = SITE.fetch('questions', fromdate=1596924000, tagged='python', min=5, sort='votes')\n",
    "#fetch is similar to get\n",
    "\n",
    "questions_today = pd.DataFrame(questions_today)\n",
    "questions_today.head()"
   ]
  },
  {
   "cell_type": "code",
   "execution_count": 13,
   "metadata": {},
   "outputs": [
    {
     "data": {
      "text/plain": [
       "backoff            2\n",
       "has_more           2\n",
       "page               2\n",
       "quota_max          2\n",
       "quota_remaining    2\n",
       "total              2\n",
       "items              2\n",
       "dtype: int64"
      ]
     },
     "execution_count": 13,
     "metadata": {},
     "output_type": "execute_result"
    }
   ],
   "source": [
    "questions_today.count()"
   ]
  },
  {
   "cell_type": "code",
   "execution_count": 14,
   "metadata": {},
   "outputs": [
    {
     "data": {
      "text/plain": [
       "1596924000.0"
      ]
     },
     "execution_count": 14,
     "metadata": {},
     "output_type": "execute_result"
    }
   ],
   "source": [
    "datetime.datetime(2020,8,9,0,0).timestamp()"
   ]
  },
  {
   "cell_type": "markdown",
   "metadata": {
    "Collapsed": "false"
   },
   "source": [
    "#### Question 3: Find the answers with id 6784 and 6473."
   ]
  },
  {
   "cell_type": "code",
   "execution_count": 15,
   "metadata": {
    "Collapsed": "false"
   },
   "outputs": [
    {
     "data": {
      "text/html": [
       "<div>\n",
       "<style scoped>\n",
       "    .dataframe tbody tr th:only-of-type {\n",
       "        vertical-align: middle;\n",
       "    }\n",
       "\n",
       "    .dataframe tbody tr th {\n",
       "        vertical-align: top;\n",
       "    }\n",
       "\n",
       "    .dataframe thead th {\n",
       "        text-align: right;\n",
       "    }\n",
       "</style>\n",
       "<table border=\"1\" class=\"dataframe\">\n",
       "  <thead>\n",
       "    <tr style=\"text-align: right;\">\n",
       "      <th></th>\n",
       "      <th>backoff</th>\n",
       "      <th>has_more</th>\n",
       "      <th>page</th>\n",
       "      <th>quota_max</th>\n",
       "      <th>quota_remaining</th>\n",
       "      <th>total</th>\n",
       "      <th>items</th>\n",
       "    </tr>\n",
       "  </thead>\n",
       "  <tbody>\n",
       "    <tr>\n",
       "      <td>0</td>\n",
       "      <td>0</td>\n",
       "      <td>False</td>\n",
       "      <td>1</td>\n",
       "      <td>300</td>\n",
       "      <td>300</td>\n",
       "      <td>0</td>\n",
       "      <td>{'owner': {'reputation': 29005, 'user_id': 758...</td>\n",
       "    </tr>\n",
       "  </tbody>\n",
       "</table>\n",
       "</div>"
      ],
      "text/plain": [
       "   backoff  has_more  page  quota_max  quota_remaining  total  \\\n",
       "0        0     False     1        300              300      0   \n",
       "\n",
       "                                               items  \n",
       "0  {'owner': {'reputation': 29005, 'user_id': 758...  "
      ]
     },
     "execution_count": 15,
     "metadata": {},
     "output_type": "execute_result"
    }
   ],
   "source": [
    "# your code here\n",
    "import pandas as pd\n",
    "from stackapi import StackAPI, StackAPIError\n",
    "SITE = StackAPI('stackoverflow')\n",
    "answers = SITE.fetch('answers', ids=[6784])\n",
    "answers= pd.DataFrame(answers)\n",
    "answers.head()"
   ]
  },
  {
   "cell_type": "code",
   "execution_count": 16,
   "metadata": {},
   "outputs": [
    {
     "data": {
      "text/html": [
       "<div>\n",
       "<style scoped>\n",
       "    .dataframe tbody tr th:only-of-type {\n",
       "        vertical-align: middle;\n",
       "    }\n",
       "\n",
       "    .dataframe tbody tr th {\n",
       "        vertical-align: top;\n",
       "    }\n",
       "\n",
       "    .dataframe thead th {\n",
       "        text-align: right;\n",
       "    }\n",
       "</style>\n",
       "<table border=\"1\" class=\"dataframe\">\n",
       "  <thead>\n",
       "    <tr style=\"text-align: right;\">\n",
       "      <th></th>\n",
       "      <th>backoff</th>\n",
       "      <th>has_more</th>\n",
       "      <th>page</th>\n",
       "      <th>quota_max</th>\n",
       "      <th>quota_remaining</th>\n",
       "      <th>total</th>\n",
       "      <th>items</th>\n",
       "    </tr>\n",
       "  </thead>\n",
       "  <tbody>\n",
       "  </tbody>\n",
       "</table>\n",
       "</div>"
      ],
      "text/plain": [
       "Empty DataFrame\n",
       "Columns: [backoff, has_more, page, quota_max, quota_remaining, total, items]\n",
       "Index: []"
      ]
     },
     "execution_count": 16,
     "metadata": {},
     "output_type": "execute_result"
    }
   ],
   "source": [
    "import pandas as pd\n",
    "from stackapi import StackAPI, StackAPIError\n",
    "SITE = StackAPI('stackoverflow')\n",
    "answers = SITE.fetch('answers', ids=[6473])\n",
    "answers= pd.DataFrame(answers)\n",
    "answers.head()"
   ]
  },
  {
   "cell_type": "code",
   "execution_count": null,
   "metadata": {},
   "outputs": [],
   "source": []
  }
 ],
 "metadata": {
  "kernelspec": {
   "display_name": "Python 3",
   "language": "python",
   "name": "python3"
  },
  "language_info": {
   "codemirror_mode": {
    "name": "ipython",
    "version": 3
   },
   "file_extension": ".py",
   "mimetype": "text/x-python",
   "name": "python",
   "nbconvert_exporter": "python",
   "pygments_lexer": "ipython3",
   "version": "3.7.4"
  }
 },
 "nbformat": 4,
 "nbformat_minor": 4
}
