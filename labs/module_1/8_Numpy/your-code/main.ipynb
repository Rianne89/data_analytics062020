{
 "cells": [
  {
   "cell_type": "markdown",
   "metadata": {
    "Collapsed": "false"
   },
   "source": [
    "# Intrduction to NumPy\n",
    "\n",
    "\n",
    "#### 1. Import NumPy under the name np."
   ]
  },
  {
   "cell_type": "code",
   "execution_count": 1,
   "metadata": {
    "Collapsed": "false"
   },
   "outputs": [],
   "source": [
    "# your code here\n",
    "\n",
    "import numpy as np\n",
    "import random"
   ]
  },
  {
   "cell_type": "markdown",
   "metadata": {
    "Collapsed": "false"
   },
   "source": [
    "#### 2. Print your NumPy version."
   ]
  },
  {
   "cell_type": "code",
   "execution_count": 2,
   "metadata": {
    "Collapsed": "false"
   },
   "outputs": [
    {
     "data": {
      "text/plain": [
       "'1.16.5'"
      ]
     },
     "execution_count": 2,
     "metadata": {},
     "output_type": "execute_result"
    }
   ],
   "source": [
    "# your code here\n",
    "\n",
    "np.version.version"
   ]
  },
  {
   "cell_type": "markdown",
   "metadata": {
    "Collapsed": "false"
   },
   "source": [
    "#### 3. Generate a 2x3x5 3-dimensional array with random values. Assign the array to variable *a*.\n",
    "**Challenge**: there are at least three easy ways that use numpy to generate random arrays. How many ways can you find?"
   ]
  },
  {
   "cell_type": "code",
   "execution_count": 3,
   "metadata": {
    "Collapsed": "false"
   },
   "outputs": [
    {
     "name": "stdout",
     "output_type": "stream",
     "text": [
      "[[[0.26071001 0.0565988  0.61181708 0.26866471 0.80057868]\n",
      "  [0.64176515 0.99873715 0.06444216 0.25042662 0.13018829]\n",
      "  [0.82877381 0.67463908 0.04265412 0.96330447 0.50358125]]\n",
      "\n",
      " [[0.45959831 0.57593766 0.92259343 0.97956218 0.52279019]\n",
      "  [0.43979276 0.77653732 0.16511819 0.49614865 0.58375375]\n",
      "  [0.25403315 0.83665798 0.94990005 0.76820866 0.24276049]]]\n"
     ]
    }
   ],
   "source": [
    "# Method 1\n",
    "\n",
    "a = np.random.random((2,3,5))\n",
    "print(a)"
   ]
  },
  {
   "cell_type": "code",
   "execution_count": 4,
   "metadata": {
    "Collapsed": "false"
   },
   "outputs": [
    {
     "name": "stdout",
     "output_type": "stream",
     "text": [
      "[[[0.52541886 0.69110656 0.39857515 0.29605324 0.64283704]\n",
      "  [0.84572906 0.58107954 0.72493624 0.27116442 0.2715931 ]\n",
      "  [0.44480196 0.97059632 0.19333939 0.77753758 0.24534618]]\n",
      "\n",
      " [[0.75330346 0.64918905 0.42658784 0.1965374  0.03458222]\n",
      "  [0.18683263 0.27834146 0.45868674 0.79598503 0.52695196]\n",
      "  [0.70335255 0.14458487 0.01529163 0.09504639 0.90666669]]]\n"
     ]
    }
   ],
   "source": [
    "# Method 2\n",
    "t = np.random.rand(2,3,5)\n",
    "print(t)"
   ]
  },
  {
   "cell_type": "code",
   "execution_count": 5,
   "metadata": {
    "Collapsed": "false"
   },
   "outputs": [
    {
     "name": "stdout",
     "output_type": "stream",
     "text": [
      "[[[9744 8897  864 6942 1602]\n",
      "  [6051 9342 8489 7908 2392]\n",
      "  [3481 6732 3779 6026 8216]]\n",
      "\n",
      " [[7371 2861 9172 2670 9333]\n",
      "  [5776 4499 1341 6292 9284]\n",
      "  [6636 1844 4517 3530 4895]]]\n",
      "[[[ 15 562 898 267 497]\n",
      "  [805 918 302 711 519]\n",
      "  [928 877 296 289 382]]\n",
      "\n",
      " [[525 879 219 183   6]\n",
      "  [201 430 249 672 574]\n",
      "  [429 702 496 716 116]]]\n"
     ]
    }
   ],
   "source": [
    "# Method 3\n",
    "u = np.random.choice(range(0,10000), size=(2,3,5))\n",
    "print(u)\n",
    "o = np.random.randint(1000, size=(2,3,5))\n",
    "print(o)"
   ]
  },
  {
   "cell_type": "markdown",
   "metadata": {
    "Collapsed": "false"
   },
   "source": [
    "#### 4. Print *a*.\n"
   ]
  },
  {
   "cell_type": "code",
   "execution_count": 6,
   "metadata": {
    "Collapsed": "false"
   },
   "outputs": [
    {
     "name": "stdout",
     "output_type": "stream",
     "text": [
      "[[[0.26071001 0.0565988  0.61181708 0.26866471 0.80057868]\n",
      "  [0.64176515 0.99873715 0.06444216 0.25042662 0.13018829]\n",
      "  [0.82877381 0.67463908 0.04265412 0.96330447 0.50358125]]\n",
      "\n",
      " [[0.45959831 0.57593766 0.92259343 0.97956218 0.52279019]\n",
      "  [0.43979276 0.77653732 0.16511819 0.49614865 0.58375375]\n",
      "  [0.25403315 0.83665798 0.94990005 0.76820866 0.24276049]]]\n"
     ]
    }
   ],
   "source": [
    "# your code here\n",
    "print(a)"
   ]
  },
  {
   "cell_type": "markdown",
   "metadata": {
    "Collapsed": "false"
   },
   "source": [
    "#### 5. Create a 5x2x3 3-dimensional array with all values equaling 1. Assign the array to variable *b*."
   ]
  },
  {
   "cell_type": "code",
   "execution_count": 7,
   "metadata": {
    "Collapsed": "false"
   },
   "outputs": [],
   "source": [
    "# your code here\n",
    "b = np.ones((5,2,3))"
   ]
  },
  {
   "cell_type": "markdown",
   "metadata": {
    "Collapsed": "false"
   },
   "source": [
    "#### 6. Print *b*.\n"
   ]
  },
  {
   "cell_type": "code",
   "execution_count": 8,
   "metadata": {
    "Collapsed": "false"
   },
   "outputs": [
    {
     "name": "stdout",
     "output_type": "stream",
     "text": [
      "[[[1. 1. 1.]\n",
      "  [1. 1. 1.]]\n",
      "\n",
      " [[1. 1. 1.]\n",
      "  [1. 1. 1.]]\n",
      "\n",
      " [[1. 1. 1.]\n",
      "  [1. 1. 1.]]\n",
      "\n",
      " [[1. 1. 1.]\n",
      "  [1. 1. 1.]]\n",
      "\n",
      " [[1. 1. 1.]\n",
      "  [1. 1. 1.]]]\n"
     ]
    }
   ],
   "source": [
    "# your code here\n",
    "print(b)"
   ]
  },
  {
   "cell_type": "markdown",
   "metadata": {
    "Collapsed": "false"
   },
   "source": [
    "#### 7. Do *a* and *b* have the same size? How do you prove that in Python code?"
   ]
  },
  {
   "cell_type": "code",
   "execution_count": 9,
   "metadata": {
    "Collapsed": "false"
   },
   "outputs": [
    {
     "name": "stdout",
     "output_type": "stream",
     "text": [
      "30\n",
      "30\n"
     ]
    },
    {
     "data": {
      "text/plain": [
       "True"
      ]
     },
     "execution_count": 9,
     "metadata": {},
     "output_type": "execute_result"
    }
   ],
   "source": [
    "# your code here\n",
    "print(np.size(a))\n",
    "print(np.size(b))\n",
    "\n",
    "bool(np.size(a)==np.size(b))"
   ]
  },
  {
   "cell_type": "markdown",
   "metadata": {
    "Collapsed": "false"
   },
   "source": [
    "#### 8. Are you able to add *a* and *b*? Why or why not?\n"
   ]
  },
  {
   "cell_type": "code",
   "execution_count": 10,
   "metadata": {
    "Collapsed": "false"
   },
   "outputs": [
    {
     "name": "stdout",
     "output_type": "stream",
     "text": [
      "(2, 3, 5)\n",
      "(5, 2, 3)\n"
     ]
    }
   ],
   "source": [
    "# your answer here\n",
    "\n",
    "#Let's check their shapes for that first;\n",
    "\n",
    "\n",
    "print(np.shape(a))\n",
    "print(np.shape(b))\n",
    "\n",
    "#Since shapes are different we can not add a and b to each other.\n",
    "#Let's try..\n",
    "\n",
    "#c = a + b #nope.."
   ]
  },
  {
   "cell_type": "markdown",
   "metadata": {
    "Collapsed": "false"
   },
   "source": [
    "#### 9. Transpose *b* so that it has the same structure of *a* (i.e. become a 2x3x5 array). Assign the transposed array to variable *c*."
   ]
  },
  {
   "cell_type": "code",
   "execution_count": 11,
   "metadata": {
    "Collapsed": "false"
   },
   "outputs": [
    {
     "name": "stdout",
     "output_type": "stream",
     "text": [
      "(2, 3, 5)\n",
      "(5, 2, 3)\n",
      "(2, 3, 5)\n"
     ]
    }
   ],
   "source": [
    "# your code here\n",
    "print(np.shape(a))\n",
    "print(np.shape(b))\n",
    "c = np.transpose(b,(1,2,0))   #initial bshape=(5,2,3) so b=(5 (0th element),2 (1st element),3 (2nd element)) -->(b,(1,2,0))\n",
    "print(np.shape(c))"
   ]
  },
  {
   "cell_type": "markdown",
   "metadata": {
    "Collapsed": "false"
   },
   "source": [
    "#### 10. Try to add *a* and *c*. Now it should work. Assign the sum to variable *d*. But why does it work now?"
   ]
  },
  {
   "cell_type": "code",
   "execution_count": 12,
   "metadata": {
    "Collapsed": "false"
   },
   "outputs": [],
   "source": [
    "# your code/answer here\n",
    "#d=a+c\n",
    "d=np.add(a,c)\n",
    "\n",
    "#Shapes are same, so we can do math operations between two arrays."
   ]
  },
  {
   "cell_type": "markdown",
   "metadata": {
    "Collapsed": "false"
   },
   "source": [
    "#### 11. Print *a* and *d*. Notice the difference and relation of the two array in terms of the values? Explain."
   ]
  },
  {
   "cell_type": "code",
   "execution_count": 13,
   "metadata": {
    "Collapsed": "false"
   },
   "outputs": [
    {
     "name": "stdout",
     "output_type": "stream",
     "text": [
      "[[[0.26071001 0.0565988  0.61181708 0.26866471 0.80057868]\n",
      "  [0.64176515 0.99873715 0.06444216 0.25042662 0.13018829]\n",
      "  [0.82877381 0.67463908 0.04265412 0.96330447 0.50358125]]\n",
      "\n",
      " [[0.45959831 0.57593766 0.92259343 0.97956218 0.52279019]\n",
      "  [0.43979276 0.77653732 0.16511819 0.49614865 0.58375375]\n",
      "  [0.25403315 0.83665798 0.94990005 0.76820866 0.24276049]]]\n",
      "\n",
      "\n",
      "\n",
      "[[[1.26071001 1.0565988  1.61181708 1.26866471 1.80057868]\n",
      "  [1.64176515 1.99873715 1.06444216 1.25042662 1.13018829]\n",
      "  [1.82877381 1.67463908 1.04265412 1.96330447 1.50358125]]\n",
      "\n",
      " [[1.45959831 1.57593766 1.92259343 1.97956218 1.52279019]\n",
      "  [1.43979276 1.77653732 1.16511819 1.49614865 1.58375375]\n",
      "  [1.25403315 1.83665798 1.94990005 1.76820866 1.24276049]]]\n"
     ]
    }
   ],
   "source": [
    "# your code/answer here\n",
    "\n",
    "print(a)\n",
    "print(\"\\n\"*2)\n",
    "print(d)\n",
    "\n",
    "#1 is added over values in array a. (or vice versa - values in a is added to ones.array.)"
   ]
  },
  {
   "cell_type": "markdown",
   "metadata": {
    "Collapsed": "false"
   },
   "source": [
    "#### 12. Multiply *a* and *c*. Assign the result to *e*."
   ]
  },
  {
   "cell_type": "code",
   "execution_count": 14,
   "metadata": {
    "Collapsed": "false"
   },
   "outputs": [
    {
     "name": "stdout",
     "output_type": "stream",
     "text": [
      "[[[0.26071001 0.0565988  0.61181708 0.26866471 0.80057868]\n",
      "  [0.64176515 0.99873715 0.06444216 0.25042662 0.13018829]\n",
      "  [0.82877381 0.67463908 0.04265412 0.96330447 0.50358125]]\n",
      "\n",
      " [[0.45959831 0.57593766 0.92259343 0.97956218 0.52279019]\n",
      "  [0.43979276 0.77653732 0.16511819 0.49614865 0.58375375]\n",
      "  [0.25403315 0.83665798 0.94990005 0.76820866 0.24276049]]]\n"
     ]
    }
   ],
   "source": [
    "# your code here\n",
    "\n",
    "#e = a * c\n",
    "\n",
    "e=np.multiply(a,c)\n",
    "print(e)"
   ]
  },
  {
   "cell_type": "markdown",
   "metadata": {
    "Collapsed": "false"
   },
   "source": [
    "#### 13. Does *e* equal to *a*? Why or why not?\n"
   ]
  },
  {
   "cell_type": "code",
   "execution_count": 15,
   "metadata": {
    "Collapsed": "false"
   },
   "outputs": [
    {
     "name": "stdout",
     "output_type": "stream",
     "text": [
      "[[[0.26071001 0.0565988  0.61181708 0.26866471 0.80057868]\n",
      "  [0.64176515 0.99873715 0.06444216 0.25042662 0.13018829]\n",
      "  [0.82877381 0.67463908 0.04265412 0.96330447 0.50358125]]\n",
      "\n",
      " [[0.45959831 0.57593766 0.92259343 0.97956218 0.52279019]\n",
      "  [0.43979276 0.77653732 0.16511819 0.49614865 0.58375375]\n",
      "  [0.25403315 0.83665798 0.94990005 0.76820866 0.24276049]]]\n",
      "\n",
      "\n",
      "\n",
      "[[[0.26071001 0.0565988  0.61181708 0.26866471 0.80057868]\n",
      "  [0.64176515 0.99873715 0.06444216 0.25042662 0.13018829]\n",
      "  [0.82877381 0.67463908 0.04265412 0.96330447 0.50358125]]\n",
      "\n",
      " [[0.45959831 0.57593766 0.92259343 0.97956218 0.52279019]\n",
      "  [0.43979276 0.77653732 0.16511819 0.49614865 0.58375375]\n",
      "  [0.25403315 0.83665798 0.94990005 0.76820866 0.24276049]]]\n"
     ]
    },
    {
     "data": {
      "text/plain": [
       "True"
      ]
     },
     "execution_count": 15,
     "metadata": {},
     "output_type": "execute_result"
    }
   ],
   "source": [
    "# your code/answer here\n",
    "print(a)\n",
    "print('\\n'*2)\n",
    "print(e)\n",
    "\n",
    "np.array_equal(a,e)"
   ]
  },
  {
   "cell_type": "markdown",
   "metadata": {
    "Collapsed": "false"
   },
   "source": [
    "#### 14. Identify the max, min, and mean values in *d*. Assign those values to variables *d_max*, *d_min* and *d_mean*."
   ]
  },
  {
   "cell_type": "code",
   "execution_count": 16,
   "metadata": {
    "Collapsed": "false"
   },
   "outputs": [
    {
     "name": "stdout",
     "output_type": "stream",
     "text": [
      "[[[1.26071001 1.0565988  1.61181708 1.26866471 1.80057868]\n",
      "  [1.64176515 1.99873715 1.06444216 1.25042662 1.13018829]\n",
      "  [1.82877381 1.67463908 1.04265412 1.96330447 1.50358125]]\n",
      "\n",
      " [[1.45959831 1.57593766 1.92259343 1.97956218 1.52279019]\n",
      "  [1.43979276 1.77653732 1.16511819 1.49614865 1.58375375]\n",
      "  [1.25403315 1.83665798 1.94990005 1.76820866 1.24276049]]]\n",
      "\n",
      "\n",
      "1.9987371470326714\n",
      "1.0426541241515137\n",
      "1.5356758059729605\n",
      "\n",
      "\n",
      "Maximum value of d is 1.9987371470326714, minimum values is 1.0426541241515137, and mean of d is 1.5356758059729605.\n"
     ]
    }
   ],
   "source": [
    "# your code here\n",
    "print(d)\n",
    "\n",
    "d_max = d.max()\n",
    "d_min = d.min()\n",
    "d_mean = d.mean()\n",
    "\n",
    "print(\"\\n\")\n",
    "\n",
    "print(d_max)\n",
    "print(d_min)\n",
    "print(d_mean)\n",
    "\n",
    "print(\"\\n\")\n",
    "print(f\"Maximum value of d is {d_max}, minimum values is {d_min}, and mean of d is {d_mean}.\")"
   ]
  },
  {
   "cell_type": "markdown",
   "metadata": {
    "Collapsed": "false"
   },
   "source": [
    "#### 15. Now we want to label the values in *d*. First create an empty array *f* with the same shape (i.e. 2x3x5) as *d* using `np.empty`.\n"
   ]
  },
  {
   "cell_type": "code",
   "execution_count": 17,
   "metadata": {
    "Collapsed": "false"
   },
   "outputs": [
    {
     "name": "stdout",
     "output_type": "stream",
     "text": [
      "[[[1.26071001 1.0565988  1.61181708 1.26866471 1.80057868]\n",
      "  [1.64176515 1.99873715 1.06444216 1.25042662 1.13018829]\n",
      "  [1.82877381 1.67463908 1.04265412 1.96330447 1.50358125]]\n",
      "\n",
      " [[1.45959831 1.57593766 1.92259343 1.97956218 1.52279019]\n",
      "  [1.43979276 1.77653732 1.16511819 1.49614865 1.58375375]\n",
      "  [1.25403315 1.83665798 1.94990005 1.76820866 1.24276049]]]\n"
     ]
    }
   ],
   "source": [
    "# your code here\n",
    "f=np.empty((2,3,5))\n",
    "print(f)"
   ]
  },
  {
   "cell_type": "markdown",
   "metadata": {
    "Collapsed": "false"
   },
   "source": [
    "#### 16. Populate the values in *f*. \n",
    "\n",
    "For each value in *d*, if it's larger than *d_min* but smaller than *d_mean*, assign 25 to the corresponding value in *f*. If a value in *d* is larger than *d_mean* but smaller than *d_max*, assign 75 to the corresponding value in *f*. If a value equals to *d_mean*, assign 50 to the corresponding value in *f*. Assign 0 to the corresponding value(s) in *f* for *d_min* in *d*. Assign 100 to the corresponding value(s) in *f* for *d_max* in *d*. In the end, f should have only the following values: 0, 25, 50, 75, and 100.\n",
    "\n",
    "**Note**: you don't have to use Numpy in this question."
   ]
  },
  {
   "cell_type": "code",
   "execution_count": 18,
   "metadata": {
    "Collapsed": "false"
   },
   "outputs": [
    {
     "name": "stdout",
     "output_type": "stream",
     "text": [
      "[[[1.26071001 1.0565988  1.61181708 1.26866471 1.80057868]\n",
      "  [1.64176515 1.99873715 1.06444216 1.25042662 1.13018829]\n",
      "  [1.82877381 1.67463908 1.04265412 1.96330447 1.50358125]]\n",
      "\n",
      " [[1.45959831 1.57593766 1.92259343 1.97956218 1.52279019]\n",
      "  [1.43979276 1.77653732 1.16511819 1.49614865 1.58375375]\n",
      "  [1.25403315 1.83665798 1.94990005 1.76820866 1.24276049]]]\n",
      "(2, 3, 5)\n",
      "\n",
      "\n",
      "\n",
      "\n",
      "1.9987371470326714\n",
      "1.0426541241515137\n",
      "1.5356758059729605\n",
      "\n",
      "\n",
      "\n",
      "\n"
     ]
    },
    {
     "data": {
      "text/plain": [
       "array([[[ 25.,  25.,  75.,  25.,  75.],\n",
       "        [ 75., 100.,  25.,  25.,  25.],\n",
       "        [ 75.,  75.,   0.,  75.,  25.]],\n",
       "\n",
       "       [[ 25.,  75.,  75.,  75.,  25.],\n",
       "        [ 25.,  75.,  25.,  25.,  75.],\n",
       "        [ 25.,  75.,  75.,  75.,  25.]]])"
      ]
     },
     "execution_count": 18,
     "metadata": {},
     "output_type": "execute_result"
    }
   ],
   "source": [
    "# your code here\n",
    "\n",
    "#f is empty array , d is sum of a+c(ones)\n",
    "\n",
    "# value > d_min and value < d_mean then = 25\n",
    "# value > d_mean and value < d_max then = 75\n",
    "# value == d_mean then = 50\n",
    "# value == d_min then = 0\n",
    "# value == d_max then = 100\n",
    "\n",
    "print(d)\n",
    "print(np.shape(d))\n",
    "print(\"\\n\"*3)   \n",
    "\n",
    "print(d_max)\n",
    "print(d_min)\n",
    "print(d_mean)\n",
    "\n",
    "print(\"\\n\"*3)\n",
    "\n",
    "#for i in range(0,len(d)):\n",
    "#    for j in range(0,len(d[i])):\n",
    "#        for k in range(0,len(d[i][j])):\n",
    "#            if d[i][j][k] > d_min and d[i][j][k] < d_mean:\n",
    "#                q = 25\n",
    "#                f[i][j][k] = np.array(q)\n",
    "#            elif d[i][j][k] > d_min and d[i][j][k] < d_max:\n",
    "#                q = 75\n",
    "#                f[i][j][k] = np.array(q)\n",
    "#            elif d[i][j][k] == d_mean:\n",
    "#                q = 50\n",
    "#                f[i][j][k] = np.array(q)\n",
    "#            elif d[i][j][k] == d_min:\n",
    "#                q = 0\n",
    "#                f[i][j][k] = np.array(q)\n",
    "#            elif d[i][j][k] == d_max:\n",
    "#                q = 100\n",
    "#                f[i][j][k] = np.array(q)\n",
    "\n",
    "#print(f)\n",
    "#print(np.shape(f))\n",
    "\n",
    "#----------------------------------- after REVIEW -----------------------\n",
    "\n",
    "f[(d > d_min) & (d < d_mean)] = 25\n",
    "f[(d > d_mean) & (d  < d_max)] = 75\n",
    "f[d == d_mean] = 50\n",
    "f[d == d_min] = 0\n",
    "f[d == d_max] = 100\n",
    "\n",
    "f\n",
    "\n"
   ]
  },
  {
   "cell_type": "markdown",
   "metadata": {},
   "source": [
    "\n",
    "#### 17. Print d and f. Do you have your expected f?\n",
    "For instance, if your d is:\n",
    "\n",
    "[[[1.85836099, 1.67064465, 1.62576044, 1.40243961, 1.88454931],\n",
    "[1.75354326, 1.69403643, 1.36729252, 1.61415071, 1.12104981],\n",
    "[1.72201435, 1.1862918 , 1.87078449, 1.7726778 , 1.88180042]],\n",
    "[[1.44747908, 1.31673383, 1.02000951, 1.52218947, 1.97066381],\n",
    "[1.79129243, 1.74983003, 1.96028037, 1.85166831, 1.65450881],\n",
    "[1.18068344, 1.9587381 , 1.00656599, 1.93402165, 1.73514584]]]\n",
    "Your f should be:\n",
    "\n",
    "[[[ 75.,  75.,  75.,  25.,  75.],\n",
    "[ 75.,  75.,  25.,  25.,  25.],\n",
    "[ 75.,  25.,  75.,  75.,  75.]],\n",
    "[[ 25.,  25.,  25.,  25., 100.],\n",
    "[ 75.,  75.,  75.,  75.,  75.],\n",
    "[ 25.,  75.,   0.,  75.,  75.]]]"
   ]
  },
  {
   "cell_type": "code",
   "execution_count": 19,
   "metadata": {
    "Collapsed": "false"
   },
   "outputs": [
    {
     "name": "stdout",
     "output_type": "stream",
     "text": [
      "[[[1.26071001 1.0565988  1.61181708 1.26866471 1.80057868]\n",
      "  [1.64176515 1.99873715 1.06444216 1.25042662 1.13018829]\n",
      "  [1.82877381 1.67463908 1.04265412 1.96330447 1.50358125]]\n",
      "\n",
      " [[1.45959831 1.57593766 1.92259343 1.97956218 1.52279019]\n",
      "  [1.43979276 1.77653732 1.16511819 1.49614865 1.58375375]\n",
      "  [1.25403315 1.83665798 1.94990005 1.76820866 1.24276049]]]\n",
      "[[[ 25.  25.  75.  25.  75.]\n",
      "  [ 75. 100.  25.  25.  25.]\n",
      "  [ 75.  75.   0.  75.  25.]]\n",
      "\n",
      " [[ 25.  75.  75.  75.  25.]\n",
      "  [ 25.  75.  25.  25.  75.]\n",
      "  [ 25.  75.  75.  75.  25.]]]\n"
     ]
    }
   ],
   "source": [
    "# your code here\n",
    "print(d)\n",
    "print(f)\n",
    "\n",
    "#Yes I believe.. I randomly checked few elements from 'f' for instance 0, 100 etc - all looks matched."
   ]
  },
  {
   "cell_type": "markdown",
   "metadata": {
    "Collapsed": "false"
   },
   "source": [
    "#### 18. Bonus question: instead of using numbers (i.e. 0, 25, 50, 75, and 100), use string values  (\"A\", \"B\", \"C\", \"D\", and \"E\") to label the array elements. For the example above, the expected result is:\n",
    "\n",
    "```python\n",
    "[[[ 'D',  'D',  'D',  'B',  'D'],\n",
    "[ 'D',  'D',  'B',  'B',  'B'],\n",
    "[ 'D',  'B',  'D',  'D',  'D']],\n",
    "[[ 'B',  'B',  'B',  'B',  'E'],\n",
    "[ 'D',  'D',  'D',  'D',  'D'],\n",
    "[ 'B',  'D',   'A',  'D', 'D']]]\n",
    "```\n",
    "**Note**: you don't have to use Numpy in this question."
   ]
  },
  {
   "cell_type": "code",
   "execution_count": 20,
   "metadata": {
    "Collapsed": "false"
   },
   "outputs": [
    {
     "name": "stdout",
     "output_type": "stream",
     "text": [
      "[[['B' 'B' 'D' 'B' 'D']\n",
      "  ['D' 'E' 'B' 'B' 'B']\n",
      "  ['D' 'D' 'A' 'D' 'B']]\n",
      "\n",
      " [['B' 'D' 'D' 'D' 'B']\n",
      "  ['B' 'D' 'B' 'B' 'D']\n",
      "  ['B' 'D' 'D' 'D' 'B']]]\n"
     ]
    }
   ],
   "source": [
    "# your code here\n",
    "\n",
    "# 0=A, 25=B, 50=C, 75=D, and 100=E\n",
    "\n",
    "#import sys\n",
    "\n",
    "#f=np.empty((2,3,5),dtype=\"S\")\n",
    "\n",
    "#for i in range(0,len(d)):\n",
    "#    for j in range(0,len(d[i])):\n",
    "#        for k in range(0,len(d[i][j])):\n",
    "#            if d[i][j][k] > d_min and d[i][j][k] < d_mean:\n",
    "#                #q = 25\n",
    "#                f[i][j][k] = np.array(\"A\")\n",
    "#            elif d[i][j][k] > d_min and d[i][j][k] < d_max:\n",
    "#                #q = 75\n",
    "#                f[i][j][k] = np.array(\"D\")\n",
    "#            elif d[i][j][k] == d_mean:\n",
    "#                #q = 50\n",
    "#                f[i][j][k] = np.array(\"C\")\n",
    "#            elif d[i][j][k] == d_min:\n",
    "#                #q = 0\n",
    "#                f[i][j][k] = np.array(\"A\")\n",
    "#            elif d[i][j][k] == d_max:\n",
    "#                #q = 100\n",
    "#                f[i][j][k] = np.array(\"E\")\n",
    "\n",
    "#print(f)\n",
    "#f = f.astype(str)\n",
    "#print(f)\n",
    "#print(np.shape(f))\n",
    "\n",
    "#----------------------------------- after REVIEW -----------------------\n",
    "\n",
    "f=np.empty((2,3,5),dtype=\"str\")\n",
    "f[(d > d_min) & (d < d_mean)] = \"B\"\n",
    "f[(d > d_mean) & (d  < d_max)] = \"D\"\n",
    "f[d == d_mean] = \"C\"\n",
    "f[d == d_min] = \"A\"\n",
    "f[d == d_max] = \"E\"\n",
    "\n",
    "print(f)"
   ]
  },
  {
   "cell_type": "code",
   "execution_count": null,
   "metadata": {},
   "outputs": [],
   "source": []
  }
 ],
 "metadata": {
  "kernelspec": {
   "display_name": "Python 3",
   "language": "python",
   "name": "python3"
  },
  "language_info": {
   "codemirror_mode": {
    "name": "ipython",
    "version": 3
   },
   "file_extension": ".py",
   "mimetype": "text/x-python",
   "name": "python",
   "nbconvert_exporter": "python",
   "pygments_lexer": "ipython3",
   "version": "3.7.4"
  }
 },
 "nbformat": 4,
 "nbformat_minor": 4
}
