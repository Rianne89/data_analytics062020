{
 "cells": [
  {
   "cell_type": "markdown",
   "metadata": {
    "Collapsed": "false"
   },
   "source": [
    "# Intrduction to NumPy\n",
    "\n",
    "\n",
    "#### 1. Import NumPy under the name np."
   ]
  },
  {
   "cell_type": "code",
   "execution_count": 1,
   "metadata": {
    "Collapsed": "false"
   },
   "outputs": [],
   "source": [
    "# your code here\n",
    "import numpy as np"
   ]
  },
  {
   "cell_type": "markdown",
   "metadata": {
    "Collapsed": "false"
   },
   "source": [
    "#### 2. Print your NumPy version."
   ]
  },
  {
   "cell_type": "code",
   "execution_count": 2,
   "metadata": {
    "Collapsed": "false"
   },
   "outputs": [
    {
     "data": {
      "text/plain": [
       "'1.18.1'"
      ]
     },
     "execution_count": 2,
     "metadata": {},
     "output_type": "execute_result"
    }
   ],
   "source": [
    "# your code here\n",
    "np.version.version"
   ]
  },
  {
   "cell_type": "markdown",
   "metadata": {
    "Collapsed": "false"
   },
   "source": [
    "#### 3. Generate a 2x3x5 3-dimensional array with random values. Assign the array to variable *a*.\n",
    "**Challenge**: there are at least three easy ways that use numpy to generate random arrays. How many ways can you find?"
   ]
  },
  {
   "cell_type": "code",
   "execution_count": 3,
   "metadata": {
    "Collapsed": "false"
   },
   "outputs": [
    {
     "name": "stdout",
     "output_type": "stream",
     "text": [
      "[[[8.97324311e-01 3.29976947e-01 8.16552619e-04 2.26159990e-01\n",
      "   5.70419013e-02]\n",
      "  [4.73614815e-01 6.04967835e-01 7.03671424e-01 2.14385161e-01\n",
      "   6.67609734e-01]\n",
      "  [7.25536961e-01 4.54752517e-01 6.47820997e-01 7.41889345e-01\n",
      "   7.03097531e-01]]\n",
      "\n",
      " [[5.99668231e-01 4.85474922e-01 7.11961996e-01 7.83094147e-01\n",
      "   6.81436324e-01]\n",
      "  [9.67466993e-01 6.18063863e-01 5.09215889e-01 1.35741679e-01\n",
      "   6.97090488e-01]\n",
      "  [3.81635030e-01 7.84975419e-01 3.56626939e-01 5.60540250e-01\n",
      "   9.86292355e-01]]]\n"
     ]
    }
   ],
   "source": [
    "# Method 1\n",
    "a = np.random.random((2,3,5))\n",
    "print(a)"
   ]
  },
  {
   "cell_type": "code",
   "execution_count": 4,
   "metadata": {
    "Collapsed": "false"
   },
   "outputs": [
    {
     "name": "stdout",
     "output_type": "stream",
     "text": [
      "[[[ 0  1  2  3  4]\n",
      "  [ 5  6  7  8  9]\n",
      "  [10 11 12 13 14]]\n",
      "\n",
      " [[15 16 17 18 19]\n",
      "  [20 21 22 23 24]\n",
      "  [25 26 27 28 29]]]\n"
     ]
    }
   ],
   "source": [
    "# Method 2\n",
    "a = np.arange(30).reshape(2,3,5)\n",
    "print(a)"
   ]
  },
  {
   "cell_type": "code",
   "execution_count": 5,
   "metadata": {
    "Collapsed": "false"
   },
   "outputs": [
    {
     "name": "stdout",
     "output_type": "stream",
     "text": [
      "[[[6.57996964e-01 2.57033865e-01 2.36742544e-01 2.20210976e-01\n",
      "   9.10327542e-01]\n",
      "  [5.61943191e-01 5.26129530e-01 7.02299659e-02 9.28717684e-01\n",
      "   3.91094568e-01]\n",
      "  [3.58404718e-02 3.83508549e-01 8.12665080e-01 4.42087889e-01\n",
      "   7.07481123e-04]]\n",
      "\n",
      " [[1.71796143e-01 4.68578975e-01 5.21663329e-01 2.31107905e-01\n",
      "   9.72369904e-01]\n",
      "  [6.11655740e-02 8.95870447e-01 2.67134635e-01 8.74774226e-01\n",
      "   4.61568221e-01]\n",
      "  [7.01755597e-01 6.82982748e-01 5.20781238e-01 7.82493263e-01\n",
      "   2.16661624e-01]]]\n"
     ]
    }
   ],
   "source": [
    "# Method 3\n",
    "a = np.random.rand(2, 3, 5)\n",
    "\n",
    "print(a)"
   ]
  },
  {
   "cell_type": "markdown",
   "metadata": {
    "Collapsed": "false"
   },
   "source": [
    "#### 4. Print *a*.\n"
   ]
  },
  {
   "cell_type": "code",
   "execution_count": 6,
   "metadata": {
    "Collapsed": "false"
   },
   "outputs": [],
   "source": [
    "# your code here\n",
    "#done before"
   ]
  },
  {
   "cell_type": "markdown",
   "metadata": {
    "Collapsed": "false"
   },
   "source": [
    "#### 5. Create a 5x2x3 3-dimensional array with all values equaling 1. Assign the array to variable *b*."
   ]
  },
  {
   "cell_type": "code",
   "execution_count": 7,
   "metadata": {
    "Collapsed": "false"
   },
   "outputs": [],
   "source": [
    "# your code here\n",
    "b=np.full((5,2,3), 1)\n"
   ]
  },
  {
   "cell_type": "markdown",
   "metadata": {
    "Collapsed": "false"
   },
   "source": [
    "#### 6. Print *b*.\n"
   ]
  },
  {
   "cell_type": "code",
   "execution_count": 8,
   "metadata": {
    "Collapsed": "false"
   },
   "outputs": [
    {
     "name": "stdout",
     "output_type": "stream",
     "text": [
      "[[[1 1 1]\n",
      "  [1 1 1]]\n",
      "\n",
      " [[1 1 1]\n",
      "  [1 1 1]]\n",
      "\n",
      " [[1 1 1]\n",
      "  [1 1 1]]\n",
      "\n",
      " [[1 1 1]\n",
      "  [1 1 1]]\n",
      "\n",
      " [[1 1 1]\n",
      "  [1 1 1]]]\n"
     ]
    }
   ],
   "source": [
    "# your code here\n",
    "print(b)"
   ]
  },
  {
   "cell_type": "markdown",
   "metadata": {
    "Collapsed": "false"
   },
   "source": [
    "#### 7. Do *a* and *b* have the same size? How do you prove that in Python code?"
   ]
  },
  {
   "cell_type": "code",
   "execution_count": 9,
   "metadata": {
    "Collapsed": "false"
   },
   "outputs": [
    {
     "data": {
      "text/plain": [
       "True"
      ]
     },
     "execution_count": 9,
     "metadata": {},
     "output_type": "execute_result"
    }
   ],
   "source": [
    "# your code here\n",
    "a.size== b.size"
   ]
  },
  {
   "cell_type": "markdown",
   "metadata": {
    "Collapsed": "false"
   },
   "source": [
    "#### 8. Are you able to add *a* and *b*? Why or why not?\n"
   ]
  },
  {
   "cell_type": "code",
   "execution_count": 10,
   "metadata": {
    "Collapsed": "false",
    "scrolled": true
   },
   "outputs": [],
   "source": [
    "# your answer here\n",
    "#np.add(a,b)\n",
    "#cant add as they dont have same shape\n"
   ]
  },
  {
   "cell_type": "markdown",
   "metadata": {
    "Collapsed": "false"
   },
   "source": [
    "#### 9. Transpose *b* so that it has the same structure of *a* (i.e. become a 2x3x5 array). Assign the transposed array to variable *c*."
   ]
  },
  {
   "cell_type": "code",
   "execution_count": 11,
   "metadata": {
    "Collapsed": "false"
   },
   "outputs": [
    {
     "name": "stdout",
     "output_type": "stream",
     "text": [
      "[[[1 1 1 1 1]\n",
      "  [1 1 1 1 1]\n",
      "  [1 1 1 1 1]]\n",
      "\n",
      " [[1 1 1 1 1]\n",
      "  [1 1 1 1 1]\n",
      "  [1 1 1 1 1]]]\n"
     ]
    }
   ],
   "source": [
    "# your code here\n",
    "c=b.reshape(2,3,5)\n",
    "print(c)"
   ]
  },
  {
   "cell_type": "markdown",
   "metadata": {
    "Collapsed": "false"
   },
   "source": [
    "#### 10. Try to add *a* and *c*. Now it should work. Assign the sum to variable *d*. But why does it work now?"
   ]
  },
  {
   "cell_type": "code",
   "execution_count": 12,
   "metadata": {
    "Collapsed": "false"
   },
   "outputs": [
    {
     "name": "stdout",
     "output_type": "stream",
     "text": [
      "[[[1.65799696 1.25703387 1.23674254 1.22021098 1.91032754]\n",
      "  [1.56194319 1.52612953 1.07022997 1.92871768 1.39109457]\n",
      "  [1.03584047 1.38350855 1.81266508 1.44208789 1.00070748]]\n",
      "\n",
      " [[1.17179614 1.46857898 1.52166333 1.23110791 1.9723699 ]\n",
      "  [1.06116557 1.89587045 1.26713463 1.87477423 1.46156822]\n",
      "  [1.7017556  1.68298275 1.52078124 1.78249326 1.21666162]]]\n"
     ]
    }
   ],
   "source": [
    "# your code/answer here\n",
    "d=np.add(c,a)\n",
    "print(d)\n",
    "#it works because they both have same shape"
   ]
  },
  {
   "cell_type": "markdown",
   "metadata": {
    "Collapsed": "false"
   },
   "source": [
    "#### 11. Print *a* and *d*. Notice the difference and relation of the two array in terms of the values? Explain."
   ]
  },
  {
   "cell_type": "code",
   "execution_count": 13,
   "metadata": {
    "Collapsed": "false"
   },
   "outputs": [
    {
     "name": "stdout",
     "output_type": "stream",
     "text": [
      "[[[6.57996964e-01 2.57033865e-01 2.36742544e-01 2.20210976e-01\n",
      "   9.10327542e-01]\n",
      "  [5.61943191e-01 5.26129530e-01 7.02299659e-02 9.28717684e-01\n",
      "   3.91094568e-01]\n",
      "  [3.58404718e-02 3.83508549e-01 8.12665080e-01 4.42087889e-01\n",
      "   7.07481123e-04]]\n",
      "\n",
      " [[1.71796143e-01 4.68578975e-01 5.21663329e-01 2.31107905e-01\n",
      "   9.72369904e-01]\n",
      "  [6.11655740e-02 8.95870447e-01 2.67134635e-01 8.74774226e-01\n",
      "   4.61568221e-01]\n",
      "  [7.01755597e-01 6.82982748e-01 5.20781238e-01 7.82493263e-01\n",
      "   2.16661624e-01]]]\n",
      "[[[1.65799696 1.25703387 1.23674254 1.22021098 1.91032754]\n",
      "  [1.56194319 1.52612953 1.07022997 1.92871768 1.39109457]\n",
      "  [1.03584047 1.38350855 1.81266508 1.44208789 1.00070748]]\n",
      "\n",
      " [[1.17179614 1.46857898 1.52166333 1.23110791 1.9723699 ]\n",
      "  [1.06116557 1.89587045 1.26713463 1.87477423 1.46156822]\n",
      "  [1.7017556  1.68298275 1.52078124 1.78249326 1.21666162]]]\n"
     ]
    }
   ],
   "source": [
    "# your code/answer here\n",
    "print(a)\n",
    "print(d)\n",
    "#it has added 1 to each value"
   ]
  },
  {
   "cell_type": "markdown",
   "metadata": {
    "Collapsed": "false"
   },
   "source": [
    "#### 12. Multiply *a* and *c*. Assign the result to *e*."
   ]
  },
  {
   "cell_type": "code",
   "execution_count": 14,
   "metadata": {
    "Collapsed": "false",
    "scrolled": true
   },
   "outputs": [
    {
     "name": "stdout",
     "output_type": "stream",
     "text": [
      "[[[6.57996964e-01 2.57033865e-01 2.36742544e-01 2.20210976e-01\n",
      "   9.10327542e-01]\n",
      "  [5.61943191e-01 5.26129530e-01 7.02299659e-02 9.28717684e-01\n",
      "   3.91094568e-01]\n",
      "  [3.58404718e-02 3.83508549e-01 8.12665080e-01 4.42087889e-01\n",
      "   7.07481123e-04]]\n",
      "\n",
      " [[1.71796143e-01 4.68578975e-01 5.21663329e-01 2.31107905e-01\n",
      "   9.72369904e-01]\n",
      "  [6.11655740e-02 8.95870447e-01 2.67134635e-01 8.74774226e-01\n",
      "   4.61568221e-01]\n",
      "  [7.01755597e-01 6.82982748e-01 5.20781238e-01 7.82493263e-01\n",
      "   2.16661624e-01]]]\n"
     ]
    }
   ],
   "source": [
    "# your code here\n",
    "e=np.multiply(a,c)\n",
    "print(e)"
   ]
  },
  {
   "cell_type": "markdown",
   "metadata": {
    "Collapsed": "false"
   },
   "source": [
    "#### 13. Does *e* equal to *a*? Why or why not?\n"
   ]
  },
  {
   "cell_type": "code",
   "execution_count": 15,
   "metadata": {
    "Collapsed": "false"
   },
   "outputs": [
    {
     "data": {
      "text/plain": [
       "array([[[ True,  True,  True,  True,  True],\n",
       "        [ True,  True,  True,  True,  True],\n",
       "        [ True,  True,  True,  True,  True]],\n",
       "\n",
       "       [[ True,  True,  True,  True,  True],\n",
       "        [ True,  True,  True,  True,  True],\n",
       "        [ True,  True,  True,  True,  True]]])"
      ]
     },
     "execution_count": 15,
     "metadata": {},
     "output_type": "execute_result"
    }
   ],
   "source": [
    "# your code/answer here\n",
    "e==a\n",
    "#because its mutiplying by 1 .so the result remains same"
   ]
  },
  {
   "cell_type": "markdown",
   "metadata": {
    "Collapsed": "false"
   },
   "source": [
    "#### 14. Identify the max, min, and mean values in *d*. Assign those values to variables *d_max*, *d_min* and *d_mean*."
   ]
  },
  {
   "cell_type": "code",
   "execution_count": 16,
   "metadata": {
    "Collapsed": "false"
   },
   "outputs": [
    {
     "name": "stdout",
     "output_type": "stream",
     "text": [
      "1.475531337669903\n",
      "1.9723699035968805\n",
      "1.0007074811231225\n"
     ]
    }
   ],
   "source": [
    "# your code here\n",
    "d_mean=np.mean(d)\n",
    "print(d_mean)\n",
    "d_max=np.max(d)\n",
    "print(d_max)\n",
    "d_min=np.min(d)\n",
    "print(d_min)"
   ]
  },
  {
   "cell_type": "markdown",
   "metadata": {
    "Collapsed": "false"
   },
   "source": [
    "#### 15. Now we want to label the values in *d*. First create an empty array *f* with the same shape (i.e. 2x3x5) as *d* using `np.empty`.\n"
   ]
  },
  {
   "cell_type": "code",
   "execution_count": 17,
   "metadata": {
    "Collapsed": "false"
   },
   "outputs": [
    {
     "name": "stdout",
     "output_type": "stream",
     "text": [
      "[[[6.57996964e-01 2.57033865e-01 2.36742544e-01 2.20210976e-01\n",
      "   9.10327542e-01]\n",
      "  [5.61943191e-01 5.26129530e-01 7.02299659e-02 9.28717684e-01\n",
      "   3.91094568e-01]\n",
      "  [3.58404718e-02 3.83508549e-01 8.12665080e-01 4.42087889e-01\n",
      "   7.07481123e-04]]\n",
      "\n",
      " [[1.71796143e-01 4.68578975e-01 5.21663329e-01 2.31107905e-01\n",
      "   9.72369904e-01]\n",
      "  [6.11655740e-02 8.95870447e-01 2.67134635e-01 8.74774226e-01\n",
      "   4.61568221e-01]\n",
      "  [7.01755597e-01 6.82982748e-01 5.20781238e-01 7.82493263e-01\n",
      "   2.16661624e-01]]]\n"
     ]
    }
   ],
   "source": [
    "# your code here\n",
    "f=np.empty([2,3,5], dtype=float)\n",
    "print(f)"
   ]
  },
  {
   "cell_type": "markdown",
   "metadata": {
    "Collapsed": "false"
   },
   "source": [
    "#### 16. Populate the values in *f*. \n",
    "\n",
    "For each value in *d*, if it's larger than *d_min* but smaller than *d_mean*, assign 25 to the corresponding value in *f*. If a value in *d* is larger than *d_mean* but smaller than *d_max*, assign 75 to the corresponding value in *f*. If a value equals to *d_mean*, assign 50 to the corresponding value in *f*. Assign 0 to the corresponding value(s) in *f* for *d_min* in *d*. Assign 100 to the corresponding value(s) in *f* for *d_max* in *d*. In the end, f should have only the following values: 0, 25, 50, 75, and 100.\n",
    "\n",
    "**Note**: you don't have to use Numpy in this question."
   ]
  },
  {
   "cell_type": "code",
   "execution_count": 18,
   "metadata": {
    "Collapsed": "false"
   },
   "outputs": [
    {
     "name": "stdout",
     "output_type": "stream",
     "text": [
      "[[[ 75.  25.  25.  25.  75.]\n",
      "  [ 75.  75.  25.  75.  25.]\n",
      "  [ 25.  25.  75.  25.   0.]]\n",
      "\n",
      " [[ 25.  25.  75.  25. 100.]\n",
      "  [ 25.  75.  25.  75.  25.]\n",
      "  [ 75.  75.  75.  75.  25.]]]\n"
     ]
    }
   ],
   "source": [
    "# your code here\n",
    "f[(d > d_min) & (d < d_mean)] = 25\n",
    "f[(d > d_mean) & (d < d_max)] = 75\n",
    "f[d == d_mean] = 50\n",
    "f[d == d_min] = 0\n",
    "f[d == d_max] = 100\n",
    "\n",
    "\n",
    "\n",
    "print(f)"
   ]
  },
  {
   "cell_type": "markdown",
   "metadata": {
    "Collapsed": "false"
   },
   "source": [
    "#### 17. Print *d* and *f*. Do you have your expected *f*?\n",
    "For instance, if your *d* is:\n",
    "```python\n",
    "[[[1.85836099, 1.67064465, 1.62576044, 1.40243961, 1.88454931],\n",
    "[1.75354326, 1.69403643, 1.36729252, 1.61415071, 1.12104981],\n",
    "[1.72201435, 1.1862918 , 1.87078449, 1.7726778 , 1.88180042]],\n",
    "[[1.44747908, 1.31673383, 1.02000951, 1.52218947, 1.97066381],\n",
    "[1.79129243, 1.74983003, 1.96028037, 1.85166831, 1.65450881],\n",
    "[1.18068344, 1.9587381 , 1.00656599, 1.93402165, 1.73514584]]]\n",
    "```\n",
    "Your *f* should be:\n",
    "```python\n",
    "[[[ 75.,  75.,  75.,  25.,  75.],\n",
    "[ 75.,  75.,  25.,  25.,  25.],\n",
    "[ 75.,  25.,  75.,  75.,  75.]],\n",
    "[[ 25.,  25.,  25.,  25., 100.],\n",
    "[ 75.,  75.,  75.,  75.,  75.],\n",
    "[ 25.,  75.,   0.,  75.,  75.]]]\n",
    "```"
   ]
  },
  {
   "cell_type": "code",
   "execution_count": 19,
   "metadata": {
    "Collapsed": "false"
   },
   "outputs": [
    {
     "name": "stdout",
     "output_type": "stream",
     "text": [
      "[[[1.65799696 1.25703387 1.23674254 1.22021098 1.91032754]\n",
      "  [1.56194319 1.52612953 1.07022997 1.92871768 1.39109457]\n",
      "  [1.03584047 1.38350855 1.81266508 1.44208789 1.00070748]]\n",
      "\n",
      " [[1.17179614 1.46857898 1.52166333 1.23110791 1.9723699 ]\n",
      "  [1.06116557 1.89587045 1.26713463 1.87477423 1.46156822]\n",
      "  [1.7017556  1.68298275 1.52078124 1.78249326 1.21666162]]]\n",
      "\n",
      "\n",
      "[[[ 75.  25.  25.  25.  75.]\n",
      "  [ 75.  75.  25.  75.  25.]\n",
      "  [ 25.  25.  75.  25.   0.]]\n",
      "\n",
      " [[ 25.  25.  75.  25. 100.]\n",
      "  [ 25.  75.  25.  75.  25.]\n",
      "  [ 75.  75.  75.  75.  25.]]]\n"
     ]
    }
   ],
   "source": [
    "# your code here\n",
    "print(d)\n",
    "print(\"\\n\")\n",
    "print(f)"
   ]
  },
  {
   "cell_type": "markdown",
   "metadata": {
    "Collapsed": "false"
   },
   "source": [
    "#### 18. Bonus question: instead of using numbers (i.e. 0, 25, 50, 75, and 100), use string values  (\"A\", \"B\", \"C\", \"D\", and \"E\") to label the array elements. For the example above, the expected result is:\n",
    "\n",
    "```python\n",
    "[[[ 'D',  'D',  'D',  'B',  'D'],\n",
    "[ 'D',  'D',  'B',  'B',  'B'],\n",
    "[ 'D',  'B',  'D',  'D',  'D']],\n",
    "[[ 'B',  'B',  'B',  'B',  'E'],\n",
    "[ 'D',  'D',  'D',  'D',  'D'],\n",
    "[ 'B',  'D',   'A',  'D', 'D']]]\n",
    "```\n",
    "**Note**: you don't have to use Numpy in this question."
   ]
  },
  {
   "cell_type": "code",
   "execution_count": 20,
   "metadata": {
    "Collapsed": "false"
   },
   "outputs": [
    {
     "data": {
      "text/plain": [
       "[[['D', 'B', 'B', 'B', 'D'],\n",
       "  ['D', 'D', 'B', 'D', 'B'],\n",
       "  ['B', 'B', 'D', 'B', 'A']],\n",
       " [['B', 'B', 'D', 'B', 'E'],\n",
       "  ['B', 'D', 'B', 'D', 'B'],\n",
       "  ['D', 'D', 'D', 'D', 'B']]]"
      ]
     },
     "execution_count": 20,
     "metadata": {},
     "output_type": "execute_result"
    }
   ],
   "source": [
    "# your code here\n",
    "[[[\"A\" if x == d_min else \"B\" if d_min<x<d_mean else \"C\" if x == d_mean else \"D\" if d_mean<x<d_max else \"E\" for x in j] for j in y] for y in d]\n"
   ]
  }
 ],
 "metadata": {
  "kernelspec": {
   "display_name": "Python 3",
   "language": "python",
   "name": "python3"
  },
  "language_info": {
   "codemirror_mode": {
    "name": "ipython",
    "version": 3
   },
   "file_extension": ".py",
   "mimetype": "text/x-python",
   "name": "python",
   "nbconvert_exporter": "python",
   "pygments_lexer": "ipython3",
   "version": "3.7.6"
  }
 },
 "nbformat": 4,
 "nbformat_minor": 4
}
