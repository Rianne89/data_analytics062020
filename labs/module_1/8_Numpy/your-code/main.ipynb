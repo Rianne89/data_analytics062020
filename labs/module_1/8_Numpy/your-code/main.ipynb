{
 "cells": [
  {
   "cell_type": "markdown",
   "metadata": {
    "Collapsed": "false"
   },
   "source": [
    "# Intrduction to NumPy\n",
    "\n",
    "\n",
    "#### 1. Import NumPy under the name np."
   ]
  },
  {
   "cell_type": "code",
   "execution_count": 1,
   "metadata": {
    "Collapsed": "false"
   },
   "outputs": [],
   "source": [
    "# your code here\n",
    "import numpy as np"
   ]
  },
  {
   "cell_type": "markdown",
   "metadata": {
    "Collapsed": "false"
   },
   "source": [
    "#### 2. Print your NumPy version."
   ]
  },
  {
   "cell_type": "code",
   "execution_count": 2,
   "metadata": {
    "Collapsed": "false"
   },
   "outputs": [
    {
     "name": "stdout",
     "output_type": "stream",
     "text": [
      "1.19.0\n"
     ]
    }
   ],
   "source": [
    "# your code here\n",
    "print(np.version.version)"
   ]
  },
  {
   "cell_type": "markdown",
   "metadata": {
    "Collapsed": "false"
   },
   "source": [
    "#### 3. Generate a 2x3x5 3-dimensional array with random values. Assign the array to variable *a*.\n",
    "**Challenge**: there are at least three easy ways that use numpy to generate random arrays. How many ways can you find?"
   ]
  },
  {
   "cell_type": "code",
   "execution_count": 3,
   "metadata": {
    "Collapsed": "false"
   },
   "outputs": [],
   "source": [
    "# Method 1\n",
    "a = np.random.random((2,3,5))"
   ]
  },
  {
   "cell_type": "code",
   "execution_count": 4,
   "metadata": {
    "Collapsed": "false"
   },
   "outputs": [
    {
     "data": {
      "text/plain": [
       "array([[[0.5490615 , 0.55775682, 0.01864782, 0.01144314, 0.08588294],\n",
       "        [0.11443464, 0.09109648, 0.98830292, 0.61528785, 0.63801048],\n",
       "        [0.16082057, 0.04260749, 0.59390736, 0.72198191, 0.98360169]],\n",
       "\n",
       "       [[0.27305638, 0.59308273, 0.69294596, 0.98095213, 0.3548575 ],\n",
       "        [0.80008657, 0.37868507, 0.21772346, 0.89401803, 0.56158727],\n",
       "        [0.66630107, 0.46071874, 0.15709608, 0.79912071, 0.18274242]]])"
      ]
     },
     "execution_count": 4,
     "metadata": {},
     "output_type": "execute_result"
    }
   ],
   "source": [
    "# Method 2\n",
    "np.random.rand(2,3,5)"
   ]
  },
  {
   "cell_type": "code",
   "execution_count": 5,
   "metadata": {
    "Collapsed": "false"
   },
   "outputs": [
    {
     "data": {
      "text/plain": [
       "array([[[0.5490615 , 0.55775682, 0.01864782, 0.01144314, 0.08588294],\n",
       "        [0.11443464, 0.09109648, 0.98830292, 0.61528785, 0.63801048],\n",
       "        [0.16082057, 0.04260749, 0.59390736, 0.72198191, 0.98360169]],\n",
       "\n",
       "       [[0.27305638, 0.59308273, 0.69294596, 0.98095213, 0.3548575 ],\n",
       "        [0.80008657, 0.37868507, 0.21772346, 0.89401803, 0.56158727],\n",
       "        [0.66630107, 0.46071874, 0.15709608, 0.79912071, 0.18274242]]])"
      ]
     },
     "execution_count": 5,
     "metadata": {},
     "output_type": "execute_result"
    }
   ],
   "source": [
    "# Method 3\n",
    "np.empty((2,3,5))"
   ]
  },
  {
   "cell_type": "markdown",
   "metadata": {
    "Collapsed": "false"
   },
   "source": [
    "#### 4. Print *a*.\n"
   ]
  },
  {
   "cell_type": "code",
   "execution_count": 6,
   "metadata": {
    "Collapsed": "false"
   },
   "outputs": [
    {
     "name": "stdout",
     "output_type": "stream",
     "text": [
      "[[[0.11169894 0.5273816  0.17157401 0.13570656 0.57815684]\n",
      "  [0.62996005 0.86698653 0.61318664 0.65764761 0.57314161]\n",
      "  [0.00504065 0.44609503 0.86186062 0.88893518 0.33440271]]\n",
      "\n",
      " [[0.73347978 0.60571404 0.21394034 0.93296598 0.70874906]\n",
      "  [0.27921575 0.47049593 0.47827207 0.78932524 0.71891377]\n",
      "  [0.99880903 0.32846719 0.94484087 0.18355197 0.84189141]]]\n"
     ]
    }
   ],
   "source": [
    "# your code here\n",
    "print(a)"
   ]
  },
  {
   "cell_type": "markdown",
   "metadata": {
    "Collapsed": "false"
   },
   "source": [
    "#### 5. Create a 5x2x3 3-dimensional array with all values equaling 1. Assign the array to variable *b*."
   ]
  },
  {
   "cell_type": "code",
   "execution_count": 7,
   "metadata": {
    "Collapsed": "false"
   },
   "outputs": [],
   "source": [
    "# your code here\n",
    "b = np.ones((5,2,3))"
   ]
  },
  {
   "cell_type": "markdown",
   "metadata": {
    "Collapsed": "false"
   },
   "source": [
    "#### 6. Print *b*.\n"
   ]
  },
  {
   "cell_type": "code",
   "execution_count": 8,
   "metadata": {
    "Collapsed": "false"
   },
   "outputs": [
    {
     "name": "stdout",
     "output_type": "stream",
     "text": [
      "[[[1. 1. 1.]\n",
      "  [1. 1. 1.]]\n",
      "\n",
      " [[1. 1. 1.]\n",
      "  [1. 1. 1.]]\n",
      "\n",
      " [[1. 1. 1.]\n",
      "  [1. 1. 1.]]\n",
      "\n",
      " [[1. 1. 1.]\n",
      "  [1. 1. 1.]]\n",
      "\n",
      " [[1. 1. 1.]\n",
      "  [1. 1. 1.]]]\n"
     ]
    }
   ],
   "source": [
    "# your code here\n",
    "print(b)"
   ]
  },
  {
   "cell_type": "markdown",
   "metadata": {
    "Collapsed": "false"
   },
   "source": [
    "#### 7. Do *a* and *b* have the same size? How do you prove that in Python code?"
   ]
  },
  {
   "cell_type": "code",
   "execution_count": 9,
   "metadata": {
    "Collapsed": "false"
   },
   "outputs": [
    {
     "data": {
      "text/plain": [
       "True"
      ]
     },
     "execution_count": 9,
     "metadata": {},
     "output_type": "execute_result"
    }
   ],
   "source": [
    "# your code here\n",
    "a.size == b.size"
   ]
  },
  {
   "cell_type": "markdown",
   "metadata": {
    "Collapsed": "false"
   },
   "source": [
    "#### 8. Are you able to add *a* and *b*? Why or why not?\n"
   ]
  },
  {
   "cell_type": "code",
   "execution_count": 10,
   "metadata": {
    "Collapsed": "false"
   },
   "outputs": [],
   "source": [
    "# your answer here\n",
    "# c = np.add(a,b)\n",
    "# not possible because the arrays have different shapes."
   ]
  },
  {
   "cell_type": "markdown",
   "metadata": {
    "Collapsed": "false"
   },
   "source": [
    "#### 9. Transpose *b* so that it has the same structure of *a* (i.e. become a 2x3x5 array). Assign the transposed array to variable *c*."
   ]
  },
  {
   "cell_type": "code",
   "execution_count": 11,
   "metadata": {
    "Collapsed": "false"
   },
   "outputs": [
    {
     "name": "stdout",
     "output_type": "stream",
     "text": [
      "[[[1. 1. 1. 1. 1.]\n",
      "  [1. 1. 1. 1. 1.]\n",
      "  [1. 1. 1. 1. 1.]]\n",
      "\n",
      " [[1. 1. 1. 1. 1.]\n",
      "  [1. 1. 1. 1. 1.]\n",
      "  [1. 1. 1. 1. 1.]]]\n"
     ]
    }
   ],
   "source": [
    "# your code here\n",
    "c = b.reshape(2,3,5)\n",
    "print(c)"
   ]
  },
  {
   "cell_type": "markdown",
   "metadata": {
    "Collapsed": "false"
   },
   "source": [
    "#### 10. Try to add *a* and *c*. Now it should work. Assign the sum to variable *d*. But why does it work now?"
   ]
  },
  {
   "cell_type": "code",
   "execution_count": 12,
   "metadata": {
    "Collapsed": "false"
   },
   "outputs": [
    {
     "name": "stdout",
     "output_type": "stream",
     "text": [
      "[[[1.11169894 1.5273816  1.17157401 1.13570656 1.57815684]\n",
      "  [1.62996005 1.86698653 1.61318664 1.65764761 1.57314161]\n",
      "  [1.00504065 1.44609503 1.86186062 1.88893518 1.33440271]]\n",
      "\n",
      " [[1.73347978 1.60571404 1.21394034 1.93296598 1.70874906]\n",
      "  [1.27921575 1.47049593 1.47827207 1.78932524 1.71891377]\n",
      "  [1.99880903 1.32846719 1.94484087 1.18355197 1.84189141]]]\n"
     ]
    }
   ],
   "source": [
    "# your code/answer here\n",
    "d = np.add(a,c)\n",
    "print(d)\n",
    "# works now because arrays a and c have the same shape."
   ]
  },
  {
   "cell_type": "markdown",
   "metadata": {
    "Collapsed": "false"
   },
   "source": [
    "#### 11. Print *a* and *d*. Notice the difference and relation of the two array in terms of the values? Explain."
   ]
  },
  {
   "cell_type": "code",
   "execution_count": 13,
   "metadata": {
    "Collapsed": "false"
   },
   "outputs": [
    {
     "name": "stdout",
     "output_type": "stream",
     "text": [
      "[[[0.11169894 0.5273816  0.17157401 0.13570656 0.57815684]\n",
      "  [0.62996005 0.86698653 0.61318664 0.65764761 0.57314161]\n",
      "  [0.00504065 0.44609503 0.86186062 0.88893518 0.33440271]]\n",
      "\n",
      " [[0.73347978 0.60571404 0.21394034 0.93296598 0.70874906]\n",
      "  [0.27921575 0.47049593 0.47827207 0.78932524 0.71891377]\n",
      "  [0.99880903 0.32846719 0.94484087 0.18355197 0.84189141]]]\n",
      "[[[1.11169894 1.5273816  1.17157401 1.13570656 1.57815684]\n",
      "  [1.62996005 1.86698653 1.61318664 1.65764761 1.57314161]\n",
      "  [1.00504065 1.44609503 1.86186062 1.88893518 1.33440271]]\n",
      "\n",
      " [[1.73347978 1.60571404 1.21394034 1.93296598 1.70874906]\n",
      "  [1.27921575 1.47049593 1.47827207 1.78932524 1.71891377]\n",
      "  [1.99880903 1.32846719 1.94484087 1.18355197 1.84189141]]]\n"
     ]
    }
   ],
   "source": [
    "# your code/answer here\n",
    "print(a) \n",
    "print(d)\n",
    "\n",
    "# values d = corresponding values a + 1 (c was a matrix of only 1 values)"
   ]
  },
  {
   "cell_type": "markdown",
   "metadata": {
    "Collapsed": "false"
   },
   "source": [
    "#### 12. Multiply *a* and *c*. Assign the result to *e*."
   ]
  },
  {
   "cell_type": "code",
   "execution_count": 14,
   "metadata": {
    "Collapsed": "false"
   },
   "outputs": [
    {
     "name": "stdout",
     "output_type": "stream",
     "text": [
      "[[[0.11169894 0.5273816  0.17157401 0.13570656 0.57815684]\n",
      "  [0.62996005 0.86698653 0.61318664 0.65764761 0.57314161]\n",
      "  [0.00504065 0.44609503 0.86186062 0.88893518 0.33440271]]\n",
      "\n",
      " [[0.73347978 0.60571404 0.21394034 0.93296598 0.70874906]\n",
      "  [0.27921575 0.47049593 0.47827207 0.78932524 0.71891377]\n",
      "  [0.99880903 0.32846719 0.94484087 0.18355197 0.84189141]]]\n"
     ]
    }
   ],
   "source": [
    "# your code here\n",
    "e = np.multiply(a, c)\n",
    "print(e)"
   ]
  },
  {
   "cell_type": "markdown",
   "metadata": {
    "Collapsed": "false"
   },
   "source": [
    "#### 13. Does *e* equal to *a*? Why or why not?\n"
   ]
  },
  {
   "cell_type": "code",
   "execution_count": 15,
   "metadata": {
    "Collapsed": "false"
   },
   "outputs": [],
   "source": [
    "# your code/answer here\n",
    "# yes values e = values a * 1 = the same"
   ]
  },
  {
   "cell_type": "markdown",
   "metadata": {
    "Collapsed": "false"
   },
   "source": [
    "#### 14. Identify the max, min, and mean values in *d*. Assign those values to variables *d_max*, *d_min* and *d_mean*."
   ]
  },
  {
   "cell_type": "code",
   "execution_count": 16,
   "metadata": {
    "Collapsed": "false"
   },
   "outputs": [
    {
     "name": "stdout",
     "output_type": "stream",
     "text": [
      "1.9988090315538656 1.0050406492239907 1.5543468999314924\n"
     ]
    }
   ],
   "source": [
    "# your code here\n",
    "d_max = np.max(d)\n",
    "d_min = np.min(d)\n",
    "d_mean = np.mean(d)\n",
    "\n",
    "print(d_max, d_min, d_mean)"
   ]
  },
  {
   "cell_type": "markdown",
   "metadata": {
    "Collapsed": "false"
   },
   "source": [
    "#### 15. Now we want to label the values in *d*. First create an empty array *f* with the same shape (i.e. 2x3x5) as *d* using `np.empty`.\n"
   ]
  },
  {
   "cell_type": "code",
   "execution_count": 17,
   "metadata": {
    "Collapsed": "false"
   },
   "outputs": [
    {
     "name": "stdout",
     "output_type": "stream",
     "text": [
      "[[[0.11169894 0.5273816  0.17157401 0.13570656 0.57815684]\n",
      "  [0.62996005 0.86698653 0.61318664 0.65764761 0.57314161]\n",
      "  [0.00504065 0.44609503 0.86186062 0.88893518 0.33440271]]\n",
      "\n",
      " [[0.73347978 0.60571404 0.21394034 0.93296598 0.70874906]\n",
      "  [0.27921575 0.47049593 0.47827207 0.78932524 0.71891377]\n",
      "  [0.99880903 0.32846719 0.94484087 0.18355197 0.84189141]]]\n"
     ]
    }
   ],
   "source": [
    "# your code here\n",
    "f = np.empty((2,3,5))\n",
    "print(f)"
   ]
  },
  {
   "cell_type": "markdown",
   "metadata": {
    "Collapsed": "false"
   },
   "source": [
    "#### 16. Populate the values in *f*. \n",
    "\n",
    "For each value in *d*, if it's larger than *d_min* but smaller than *d_mean*, assign 25 to the corresponding value in *f*. If a value in *d* is larger than *d_mean* but smaller than *d_max*, assign 75 to the corresponding value in *f*. If a value equals to *d_mean*, assign 50 to the corresponding value in *f*. Assign 0 to the corresponding value(s) in *f* for *d_min* in *d*. Assign 100 to the corresponding value(s) in *f* for *d_max* in *d*. In the end, f should have only the following values: 0, 25, 50, 75, and 100.\n",
    "\n",
    "**Note**: you don't have to use Numpy in this question."
   ]
  },
  {
   "cell_type": "code",
   "execution_count": 18,
   "metadata": {
    "Collapsed": "false"
   },
   "outputs": [
    {
     "name": "stdout",
     "output_type": "stream",
     "text": [
      "[[[ 25.  25.  25.  25.  75.]\n",
      "  [ 75.  75.  75.  75.  75.]\n",
      "  [  0.  25.  75.  75.  25.]]\n",
      "\n",
      " [[ 75.  75.  25.  75.  75.]\n",
      "  [ 25.  25.  25.  75.  75.]\n",
      "  [100.  25.  75.  25.  75.]]]\n"
     ]
    }
   ],
   "source": [
    "# your code here\n",
    "f[(d > d_min) & (d < d_mean)] = 25\n",
    "f[(d > d_mean) & (d < d_max)] = 75\n",
    "f[d == d_mean] = 50\n",
    "f[d == d_min] = 0\n",
    "f[d == d_max] = 100\n",
    "\n",
    "print(f)"
   ]
  },
  {
   "cell_type": "markdown",
   "metadata": {
    "Collapsed": "false"
   },
   "source": [
    "#### 17. Print *d* and *f*. Do you have your expected *f*?\n",
    "For instance, if your *d* is:\n",
    "```python\n",
    "[[[1.85836099, 1.67064465, 1.62576044, 1.40243961, 1.88454931],\n",
    "[1.75354326, 1.69403643, 1.36729252, 1.61415071, 1.12104981],\n",
    "[1.72201435, 1.1862918 , 1.87078449, 1.7726778 , 1.88180042]],\n",
    "[[1.44747908, 1.31673383, 1.02000951, 1.52218947, 1.97066381],\n",
    "[1.79129243, 1.74983003, 1.96028037, 1.85166831, 1.65450881],\n",
    "[1.18068344, 1.9587381 , 1.00656599, 1.93402165, 1.73514584]]]\n",
    "```\n",
    "Your *f* should be:\n",
    "```python\n",
    "[[[ 75.,  75.,  75.,  25.,  75.],\n",
    "[ 75.,  75.,  25.,  25.,  25.],\n",
    "[ 75.,  25.,  75.,  75.,  75.]],\n",
    "[[ 25.,  25.,  25.,  25., 100.],\n",
    "[ 75.,  75.,  75.,  75.,  75.],\n",
    "[ 25.,  75.,   0.,  75.,  75.]]]\n",
    "```"
   ]
  },
  {
   "cell_type": "code",
   "execution_count": 19,
   "metadata": {
    "Collapsed": "false"
   },
   "outputs": [
    {
     "name": "stdout",
     "output_type": "stream",
     "text": [
      "[[[1.11169894 1.5273816  1.17157401 1.13570656 1.57815684]\n",
      "  [1.62996005 1.86698653 1.61318664 1.65764761 1.57314161]\n",
      "  [1.00504065 1.44609503 1.86186062 1.88893518 1.33440271]]\n",
      "\n",
      " [[1.73347978 1.60571404 1.21394034 1.93296598 1.70874906]\n",
      "  [1.27921575 1.47049593 1.47827207 1.78932524 1.71891377]\n",
      "  [1.99880903 1.32846719 1.94484087 1.18355197 1.84189141]]]\n",
      "[[[ 25.  25.  25.  25.  75.]\n",
      "  [ 75.  75.  75.  75.  75.]\n",
      "  [  0.  25.  75.  75.  25.]]\n",
      "\n",
      " [[ 75.  75.  25.  75.  75.]\n",
      "  [ 25.  25.  25.  75.  75.]\n",
      "  [100.  25.  75.  25.  75.]]]\n"
     ]
    }
   ],
   "source": [
    "# your code here\n",
    "print(d)\n",
    "print(f)"
   ]
  },
  {
   "cell_type": "markdown",
   "metadata": {
    "Collapsed": "false"
   },
   "source": [
    "#### 18. Bonus question: instead of using numbers (i.e. 0, 25, 50, 75, and 100), use string values  (\"A\", \"B\", \"C\", \"D\", and \"E\") to label the array elements. For the example above, the expected result is:\n",
    "\n",
    "```python\n",
    "[[[ 'D',  'D',  'D',  'B',  'D'],\n",
    "[ 'D',  'D',  'B',  'B',  'B'],\n",
    "[ 'D',  'B',  'D',  'D',  'D']],\n",
    "[[ 'B',  'B',  'B',  'B',  'E'],\n",
    "[ 'D',  'D',  'D',  'D',  'D'],\n",
    "[ 'B',  'D',   'A',  'D', 'D']]]\n",
    "```\n",
    "**Note**: you don't have to use Numpy in this question."
   ]
  },
  {
   "cell_type": "code",
   "execution_count": 20,
   "metadata": {
    "Collapsed": "false"
   },
   "outputs": [
    {
     "name": "stdout",
     "output_type": "stream",
     "text": [
      "[[['B' 'B' 'B' 'B' 'D']\n",
      "  ['D' 'D' 'D' 'D' 'D']\n",
      "  ['A' 'B' 'D' 'D' 'B']]\n",
      "\n",
      " [['D' 'D' 'B' 'D' 'D']\n",
      "  ['B' 'B' 'B' 'D' 'D']\n",
      "  ['E' 'B' 'D' 'B' 'D']]]\n"
     ]
    }
   ],
   "source": [
    "# your code here\n",
    "f = np.array(f, dtype = 'object')\n",
    "f[(d > d_min) & (d < d_mean)] = \"B\"\n",
    "f[(d > d_mean) & (d < d_max)] = \"D\"\n",
    "f[d == d_mean] = \"C\"\n",
    "f[d == d_min] = \"A\"\n",
    "f[d == d_max] = \"E\"\n",
    "\n",
    "print(f)"
   ]
  },
  {
   "cell_type": "code",
   "execution_count": null,
   "metadata": {},
   "outputs": [],
   "source": []
  }
 ],
 "metadata": {
  "kernelspec": {
   "display_name": "Python 3",
   "language": "python",
   "name": "python3"
  },
  "language_info": {
   "codemirror_mode": {
    "name": "ipython",
    "version": 3
   },
   "file_extension": ".py",
   "mimetype": "text/x-python",
   "name": "python",
   "nbconvert_exporter": "python",
   "pygments_lexer": "ipython3",
   "version": "3.8.2"
  }
 },
 "nbformat": 4,
 "nbformat_minor": 4
}
