{
 "cells": [
  {
   "cell_type": "markdown",
   "metadata": {
    "Collapsed": "false",
    "collapsed": false
   },
   "source": [
    "# Intrduction to NumPy\n",
    "\n",
    "\n",
    "#### 1. Import NumPy under the name np."
   ]
  },
  {
   "cell_type": "code",
   "execution_count": 28,
   "metadata": {
    "Collapsed": "false",
    "collapsed": false
   },
   "outputs": [
   ],
   "source": [
    "# your code here\n",
    "import numpy as np"
   ]
  },
  {
   "cell_type": "markdown",
   "metadata": {
    "Collapsed": "false",
    "collapsed": false
   },
   "source": [
    "#### 2. Print your NumPy version."
   ]
  },
  {
   "cell_type": "code",
   "execution_count": 29,
   "metadata": {
    "Collapsed": "false",
    "collapsed": false
   },
   "outputs": [
    {
     "name": "stdout",
     "output_type": "stream",
     "text": [
      "1.18.5\n"
     ]
    }
   ],
   "source": [
    "# your code here\n",
    "print(np.__version__)"
   ]
  },
  {
   "cell_type": "markdown",
   "metadata": {
    "Collapsed": "false",
    "collapsed": false
   },
   "source": [
    "#### 3. Generate a 2x3x5 3-dimensional array with random values. Assign the array to variable *a*.\n",
    "**Challenge**: there are at least three easy ways that use numpy to generate random arrays. How many ways can you find?"
   ]
  },
  {
   "cell_type": "code",
   "execution_count": 30,
   "metadata": {
    "Collapsed": "false",
    "collapsed": false
   },
   "outputs": [
    {
     "name": "stdout",
     "output_type": "stream",
     "text": [
      "[[[0.02696521 0.14654883 0.81311007 0.39362067 0.07836128]\n",
      "  [0.24444599 0.80096254 0.56471843 0.21077902 0.33631574]\n",
      "  [0.29794642 0.35150763 0.83046128 0.22366454 0.97652975]]\n",
      "\n",
      " [[0.08723899 0.3460605  0.95647568 0.13741414 0.64575319]\n",
      "  [0.90659608 0.24726514 0.982724   0.43868654 0.09411069]\n",
      "  [0.28980554 0.33343436 0.87037085 0.52619806 0.67856927]]]\n"
     ]
    }
   ],
   "source": [
    "# Method 1\n",
    "a = np.random.random((2,3,5))\n",
    "print(a)\n",
    "\n",
    "#[tjerk] yes"
   ]
  },
  {
   "cell_type": "code",
   "execution_count": 31,
   "metadata": {
    "collapsed": false
   },
   "outputs": [
    {
     "name": "stdout",
     "output_type": "stream",
     "text": [
      "[[[399 887 235 821 524]\n",
      "  [676 574 292 874 781]\n",
      "  [554 734 875 607 748]]\n",
      "\n",
      " [[662 296 604 327 325]\n",
      "  [ 60 909 247 737 132]\n",
      "  [991 983 819 726 884]]]\n"
     ]
    }
   ],
   "source": [
    "# Method 2\n",
    "a = np.random.randint(1000, size = (2, 3, 5))\n",
    "print(a)\n",
    "\n",
    "\n",
    "#[tjerk] yes"
   ]
  },
  {
   "cell_type": "code",
   "execution_count": 32,
   "metadata": {
    "Collapsed": "false",
    "collapsed": false
   },
   "outputs": [
    {
     "name": "stdout",
     "output_type": "stream",
     "text": [
      "[[[399 887 235 821 524]\n",
      "  [676 574 292 874 781]\n",
      "  [554 734 875 607 748]]\n",
      "\n",
      " [[662 296 604 327 325]\n",
      "  [ 60 909 247 737 132]\n",
      "  [991 983 819 726 884]]]\n"
     ]
    }
   ],
   "source": [
    "# Method 3\n",
    "\n",
    "a_1 = np.random.choice((100), size = (2, 3, 5))\n",
    "print(a)\n",
    "\n",
    "#[tjerk] yes"
   ]
  },
  {
   "cell_type": "markdown",
   "metadata": {
    "Collapsed": "false",
    "collapsed": false
   },
   "source": [
    "#### 4. Print *a*.\n"
   ]
  },
  {
   "cell_type": "code",
   "execution_count": 33,
   "metadata": {
    "Collapsed": "false",
    "collapsed": false
   },
   "outputs": [
    {
     "name": "stdout",
     "output_type": "stream",
     "text": [
      "[[[399 887 235 821 524]\n",
      "  [676 574 292 874 781]\n",
      "  [554 734 875 607 748]]\n",
      "\n",
      " [[662 296 604 327 325]\n",
      "  [ 60 909 247 737 132]\n",
      "  [991 983 819 726 884]]]\n"
     ]
    }
   ],
   "source": [
    "# your code here\n",
    "print(a)"
   ]
  },
  {
   "cell_type": "markdown",
   "metadata": {
    "Collapsed": "false",
    "collapsed": false
   },
   "source": [
    "#### 5. Create a 5x2x3 3-dimensional array with all values equaling 1. Assign the array to variable *b*."
   ]
  },
  {
   "cell_type": "code",
   "execution_count": 34,
   "metadata": {
    "Collapsed": "false",
    "collapsed": false
   },
   "outputs": [
   ],
   "source": [
    "# your code here\n",
    "b = np.random.random((5, 2, 3))\n",
    "b /= np.sum(b)\n",
    "\n",
    "#[tjerk] no, i think you have overlooked 'with all values equaling 1'"
   ]
  },
  {
   "cell_type": "markdown",
   "metadata": {
    "Collapsed": "false",
    "collapsed": false
   },
   "source": [
    "#### 6. Print *b*.\n"
   ]
  },
  {
   "cell_type": "code",
   "execution_count": 35,
   "metadata": {
    "Collapsed": "false",
    "collapsed": false
   },
   "outputs": [
    {
     "name": "stdout",
     "output_type": "stream",
     "text": [
      "[[[0.01608632 0.03962614 0.01632127]\n",
      "  [0.03977546 0.02401437 0.03222495]]\n",
      "\n",
      " [[0.01066328 0.0575568  0.06242923]\n",
      "  [0.05085747 0.06169357 0.00105967]]\n",
      "\n",
      " [[0.04127194 0.03896549 0.00378067]\n",
      "  [0.06140156 0.01735338 0.02815033]]\n",
      "\n",
      " [[0.04246003 0.04221928 0.03652005]\n",
      "  [0.00744444 0.02322925 0.0054511 ]]\n",
      "\n",
      " [[0.02245441 0.04612779 0.04381252]\n",
      "  [0.04553279 0.03229302 0.04922343]]]\n"
     ]
    },
    {
     "data": {
      "text/plain": [
       "0.9999999999999998"
      ]
     },
     "execution_count": 35,
     "metadata": {
     },
     "output_type": "execute_result"
    }
   ],
   "source": [
    "# print the array\n",
    "print(b)\n",
    "#check if sum == 1\n",
    "b.sum()"
   ]
  },
  {
   "cell_type": "markdown",
   "metadata": {
    "Collapsed": "false",
    "collapsed": false
   },
   "source": [
    "#### 7. Do *a* and *b* have the same size? How do you prove that in Python code?"
   ]
  },
  {
   "cell_type": "code",
   "execution_count": 36,
   "metadata": {
    "collapsed": false
   },
   "outputs": [
    {
     "name": "stdout",
     "output_type": "stream",
     "text": [
      "True\n"
     ]
    }
   ],
   "source": [
    "# your code here\n",
    "# Comparing the size of randomly generated array A and randomonly\n",
    "# generated but limited to sum == 1, array B.\n",
    "if np.size(a) == np.size(b):\n",
    "    print(True)\n",
    "else:\n",
    "    print(False)\n",
    "    \n",
    "#[tjerk] yes, or a bit shorter in just one line\n",
    "#print(np.size(a) == np.size(b))"
   ]
  },
  {
   "cell_type": "code",
   "execution_count": 37,
   "metadata": {
    "Collapsed": "false",
    "collapsed": false
   },
   "outputs": [
    {
     "name": "stdout",
     "output_type": "stream",
     "text": [
      "True\n"
     ]
    }
   ],
   "source": [
    "print(np.size(a) == np.size(b))"
   ]
  },
  {
   "cell_type": "markdown",
   "metadata": {
    "Collapsed": "false",
    "collapsed": false
   },
   "source": [
    "#### 8. Are you able to add *a* and *b*? Why or why not?\n"
   ]
  },
  {
   "cell_type": "code",
   "execution_count": 38,
   "metadata": {
    "Collapsed": "false",
    "collapsed": false
   },
   "outputs": [
   ],
   "source": [
    "# your answer here\n",
    "# No, the shapes are different. A Value error pops up:\n",
    "    #ValueError: operands could not be broadcast together with shapes (2,3,5) (5,2,3) \n",
    "# np.add(a,b)\n",
    "\n",
    "#[tjerk] yes"
   ]
  },
  {
   "cell_type": "markdown",
   "metadata": {
    "Collapsed": "false",
    "collapsed": false
   },
   "source": [
    "#### 9. Transpose *b* so that it has the same structure of *a* (i.e. become a 2x3x5 array). Assign the transposed array to variable *c*."
   ]
  },
  {
   "cell_type": "code",
   "execution_count": 39,
   "metadata": {
    "Collapsed": "false",
    "collapsed": false
   },
   "outputs": [
    {
     "name": "stdout",
     "output_type": "stream",
     "text": [
      "[[[0.01608632 0.03962614 0.01632127 0.03977546 0.02401437]\n",
      "  [0.03222495 0.01066328 0.0575568  0.06242923 0.05085747]\n",
      "  [0.06169357 0.00105967 0.04127194 0.03896549 0.00378067]]\n",
      "\n",
      " [[0.06140156 0.01735338 0.02815033 0.04246003 0.04221928]\n",
      "  [0.03652005 0.00744444 0.02322925 0.0054511  0.02245441]\n",
      "  [0.04612779 0.04381252 0.04553279 0.03229302 0.04922343]]]\n"
     ]
    }
   ],
   "source": [
    "# your code here\n",
    "c = b.reshape(2, 3, 5)\n",
    "print(c)"
   ]
  },
  {
   "cell_type": "markdown",
   "metadata": {
    "Collapsed": "false",
    "collapsed": false
   },
   "source": [
    "#### 10. Try to add *a* and *c*. Now it should work. Assign the sum to variable *d*. But why does it work now?"
   ]
  },
  {
   "cell_type": "code",
   "execution_count": 40,
   "metadata": {
    "Collapsed": "false",
    "collapsed": false
   },
   "outputs": [
   ],
   "source": [
    "# your code/answer here\n",
    "d = np.add(a, c)\n",
    "# the arrays share the same shape hence the values can be added"
   ]
  },
  {
   "cell_type": "markdown",
   "metadata": {
    "Collapsed": "false",
    "collapsed": false
   },
   "source": [
    "#### 11. Print *a* and *d*. Notice the difference and relation of the two array in terms of the values? Explain."
   ]
  },
  {
   "cell_type": "code",
   "execution_count": 41,
   "metadata": {
    "Collapsed": "false",
    "collapsed": false
   },
   "outputs": [
    {
     "name": "stdout",
     "output_type": "stream",
     "text": [
      "[[[399 887 235 821 524]\n",
      "  [676 574 292 874 781]\n",
      "  [554 734 875 607 748]]\n",
      "\n",
      " [[662 296 604 327 325]\n",
      "  [ 60 909 247 737 132]\n",
      "  [991 983 819 726 884]]] [[[399.01608632 887.03962614 235.01632127 821.03977546 524.02401437]\n",
      "  [676.03222495 574.01066328 292.0575568  874.06242923 781.05085747]\n",
      "  [554.06169357 734.00105967 875.04127194 607.03896549 748.00378067]]\n",
      "\n",
      " [[662.06140156 296.01735338 604.02815033 327.04246003 325.04221928]\n",
      "  [ 60.03652005 909.00744444 247.02322925 737.0054511  132.02245441]\n",
      "  [991.04612779 983.04381252 819.04553279 726.03229302 884.04922343]]]\n"
     ]
    }
   ],
   "source": [
    "# your code/answer here\n",
    "print(a,d)\n",
    "\n",
    "#[tjerk] where is your explanation? please answer all questions!"
   ]
  },
  {
   "cell_type": "markdown",
   "metadata": {
    "Collapsed": "false",
    "collapsed": false
   },
   "source": [
    "#### 12. Multiply *a* and *c*. Assign the result to *e*."
   ]
  },
  {
   "cell_type": "code",
   "execution_count": 42,
   "metadata": {
    "Collapsed": "false",
    "collapsed": false
   },
   "outputs": [
    {
     "name": "stdout",
     "output_type": "stream",
     "text": [
      "[[[ 6.41844312 35.14838859  3.83549836 32.65565609 12.58353044]\n",
      "  [21.78406845  6.12072038 16.80658423 54.56314644 39.71968234]\n",
      "  [34.17823661  0.77779617 36.11294916 23.652051    2.82793977]]\n",
      "\n",
      " [[40.64783163  5.13660175 17.00280017 13.88443005 13.72126665]\n",
      "  [ 2.1912029   6.76699201  5.73762467  4.01745747  2.96398238]\n",
      "  [45.71263832 43.06770258 37.29135741 23.44473413 43.51350939]]]\n"
     ]
    }
   ],
   "source": [
    "# your code here\n",
    "e = np.multiply(a,c)\n",
    "print(e)"
   ]
  },
  {
   "cell_type": "markdown",
   "metadata": {
    "Collapsed": "false",
    "collapsed": false
   },
   "source": [
    "#### 13. Does *e* equal to *a*? Why or why not?\n"
   ]
  },
  {
   "cell_type": "code",
   "execution_count": 43,
   "metadata": {
    "Collapsed": "false",
    "collapsed": false
   },
   "outputs": [
    {
     "data": {
      "text/plain": [
       "array([[[False, False, False, False, False],\n",
       "        [False, False, False, False, False],\n",
       "        [False, False, False, False, False]],\n",
       "\n",
       "       [[False, False, False, False, False],\n",
       "        [False, False, False, False, False],\n",
       "        [False, False, False, False, False]]])"
      ]
     },
     "execution_count": 43,
     "metadata": {
     },
     "output_type": "execute_result"
    }
   ],
   "source": [
    "# your code/answer here\n",
    "a == e\n",
    "# No, because a multiplication to the values of a was added.\n",
    "\n",
    "#[tjerk] something went wrong because they should be the same\n",
    "# i found your bug, you did random instead of ones. so that mistake propagated to having this answer wrong"
   ]
  },
  {
   "cell_type": "markdown",
   "metadata": {
    "Collapsed": "false",
    "collapsed": false
   },
   "source": [
    "#### 14. Identify the max, min, and mean values in *d*. Assign those values to variables *d_max*, *d_min* and *d_mean*."
   ]
  },
  {
   "cell_type": "code",
   "execution_count": 44,
   "metadata": {
    "Collapsed": "false",
    "collapsed": false
   },
   "outputs": [
    {
     "name": "stdout",
     "output_type": "stream",
     "text": [
      "991.0461277884116 60.03652004828412 609.4666666666667\n"
     ]
    }
   ],
   "source": [
    "# your code here\n",
    "d_max = np.max(d)\n",
    "d_min = np.min(d)\n",
    "d_mean = np.mean(d)\n",
    "print(d_max,d_min,d_mean)"
   ]
  },
  {
   "cell_type": "markdown",
   "metadata": {
    "Collapsed": "false",
    "collapsed": false
   },
   "source": [
    "#### 15. Now we want to label the values in *d*. First create an empty array *f* with the same shape (i.e. 2x3x5) as *d* using `np.empty`.\n"
   ]
  },
  {
   "cell_type": "code",
   "execution_count": 45,
   "metadata": {
    "Collapsed": "false",
    "collapsed": false
   },
   "outputs": [
    {
     "name": "stdout",
     "output_type": "stream",
     "text": [
      "[[[ 6.41844312 35.14838859  3.83549836 32.65565609 12.58353044]\n",
      "  [21.78406845  6.12072038 16.80658423 54.56314644 39.71968234]\n",
      "  [34.17823661  0.77779617 36.11294916 23.652051    2.82793977]]\n",
      "\n",
      " [[40.64783163  5.13660175 17.00280017 13.88443005 13.72126665]\n",
      "  [ 2.1912029   6.76699201  5.73762467  4.01745747  2.96398238]\n",
      "  [45.71263832 43.06770258 37.29135741 23.44473413 43.51350939]]]\n"
     ]
    }
   ],
   "source": [
    "# your code here\n",
    "f = np.empty((2, 3, 5))\n",
    "print(f)"
   ]
  },
  {
   "cell_type": "markdown",
   "metadata": {
    "Collapsed": "false",
    "collapsed": false
   },
   "source": [
    "#### 16. Populate the values in *f*. \n",
    "\n",
    "For each value in *d*, if it's larger than *d_min* but smaller than *d_mean*, assign 25 to the corresponding value in *f*. If a value in *d* is larger than *d_mean* but smaller than *d_max*, assign 75 to the corresponding value in *f*. If a value equals to *d_mean*, assign 50 to the corresponding value in *f*. Assign 0 to the corresponding value(s) in *f* for *d_min* in *d*. Assign 100 to the corresponding value(s) in *f* for *d_max* in *d*. In the end, f should have only the following values: 0, 25, 50, 75, and 100.\n",
    "\n",
    "**Note**: you don't have to use Numpy in this question."
   ]
  },
  {
   "cell_type": "code",
   "execution_count": 46,
   "metadata": {
    "Collapsed": "false",
    "collapsed": false
   },
   "outputs": [
    {
     "data": {
      "text/plain": [
       "array([[[ 25.,  75.,  25.,  75.,  25.],\n",
       "        [ 75.,  25.,  25.,  75.,  75.],\n",
       "        [ 25.,  75.,  75.,  25.,  75.]],\n",
       "\n",
       "       [[ 75.,  25.,  25.,  25.,  25.],\n",
       "        [  0.,  75.,  25.,  75.,  25.],\n",
       "        [100.,  75.,  75.,  75.,  75.]]])"
      ]
     },
     "execution_count": 46,
     "metadata": {
     },
     "output_type": "execute_result"
    }
   ],
   "source": [
    "# your code here\n",
    "f[(d > d_min) & (d < d_mean)] = 25\n",
    "f[(d > d_mean) & (d < d_max)] = 75\n",
    "f[d == d_mean] = 50\n",
    "f[d == d_min] = 0\n",
    "f[d == d_max] = 100\n",
    "\n",
    "f\n",
    "\n",
    "#[tjerk] yes, very creative indexing"
   ]
  },
  {
   "cell_type": "markdown",
   "metadata": {
    "Collapsed": "false",
    "collapsed": false
   },
   "source": [
    "#### 17. Print *d* and *f*. Do you have your expected *f*?\n",
    "For instance, if your *d* is:\n",
    "```python\n",
    "[[[1.85836099, 1.67064465, 1.62576044, 1.40243961, 1.88454931],\n",
    "[1.75354326, 1.69403643, 1.36729252, 1.61415071, 1.12104981],\n",
    "[1.72201435, 1.1862918 , 1.87078449, 1.7726778 , 1.88180042]],\n",
    "[[1.44747908, 1.31673383, 1.02000951, 1.52218947, 1.97066381],\n",
    "[1.79129243, 1.74983003, 1.96028037, 1.85166831, 1.65450881],\n",
    "[1.18068344, 1.9587381 , 1.00656599, 1.93402165, 1.73514584]]]\n",
    "```\n",
    "Your *f* should be:\n",
    "```python\n",
    "[[[ 75.,  75.,  75.,  25.,  75.],\n",
    "[ 75.,  75.,  25.,  25.,  25.],\n",
    "[ 75.,  25.,  75.,  75.,  75.]],\n",
    "[[ 25.,  25.,  25.,  25., 100.],\n",
    "[ 75.,  75.,  75.,  75.,  75.],\n",
    "[ 25.,  75.,   0.,  75.,  75.]]]\n",
    "```"
   ]
  },
  {
   "cell_type": "code",
   "execution_count": 47,
   "metadata": {
    "Collapsed": "false",
    "collapsed": false
   },
   "outputs": [
    {
     "name": "stdout",
     "output_type": "stream",
     "text": [
      "[[[399.01608632 887.03962614 235.01632127 821.03977546 524.02401437]\n",
      "  [676.03222495 574.01066328 292.0575568  874.06242923 781.05085747]\n",
      "  [554.06169357 734.00105967 875.04127194 607.03896549 748.00378067]]\n",
      "\n",
      " [[662.06140156 296.01735338 604.02815033 327.04246003 325.04221928]\n",
      "  [ 60.03652005 909.00744444 247.02322925 737.0054511  132.02245441]\n",
      "  [991.04612779 983.04381252 819.04553279 726.03229302 884.04922343]]]\n",
      "[[[ 25.  75.  25.  75.  25.]\n",
      "  [ 75.  25.  25.  75.  75.]\n",
      "  [ 25.  75.  75.  25.  75.]]\n",
      "\n",
      " [[ 75.  25.  25.  25.  25.]\n",
      "  [  0.  75.  25.  75.  25.]\n",
      "  [100.  75.  75.  75.  75.]]]\n"
     ]
    }
   ],
   "source": [
    "# your code here\n",
    "print(d)\n",
    "print(f)\n",
    "\n",
    "#[tjerk] looks like you aced it!\n",
    "#my tip is to really read the assignment well\n",
    "#and to have a lot of fun in Disneyland"
   ]
  },
  {
   "cell_type": "markdown",
   "metadata": {
    "Collapsed": "false",
    "collapsed": false
   },
   "source": [
    "#### 18. Bonus question: instead of using numbers (i.e. 0, 25, 50, 75, and 100), use string values  (\"A\", \"B\", \"C\", \"D\", and \"E\") to label the array elements. For the example above, the expected result is:\n",
    "\n",
    "```python\n",
    "[[[ 'D',  'D',  'D',  'B',  'D'],\n",
    "[ 'D',  'D',  'B',  'B',  'B'],\n",
    "[ 'D',  'B',  'D',  'D',  'D']],\n",
    "[[ 'B',  'B',  'B',  'B',  'E'],\n",
    "[ 'D',  'D',  'D',  'D',  'D'],\n",
    "[ 'B',  'D',   'A',  'D', 'D']]]\n",
    "```\n",
    "**Note**: you don't have to use Numpy in this question."
   ]
  },
  {
   "cell_type": "code",
   "execution_count": 48,
   "metadata": {
    "Collapsed": "false",
    "collapsed": false
   },
   "outputs": [
   ],
   "source": [
    "# your code here"
   ]
  },
  {
   "cell_type": "code",
   "execution_count": 0,
   "metadata": {
    "collapsed": false
   },
   "outputs": [
   ],
   "source": [
   ]
  }
 ],
 "metadata": {
  "kernelspec": {
   "display_name": "Python 3 (system-wide)",
   "language": "python",
   "metadata": {
    "cocalc": {
     "description": "Python 3 programming language",
     "priority": 100,
     "url": "https://www.python.org/"
    }
   },
   "name": "python3"
  },
  "language_info": {
   "codemirror_mode": {
    "name": "ipython",
    "version": 3
   },
   "file_extension": ".py",
   "mimetype": "text/x-python",
   "name": "python",
   "nbconvert_exporter": "python",
   "pygments_lexer": "ipython3",
   "version": "3.6.9"
  }
 },
 "nbformat": 4,
 "nbformat_minor": 4
}