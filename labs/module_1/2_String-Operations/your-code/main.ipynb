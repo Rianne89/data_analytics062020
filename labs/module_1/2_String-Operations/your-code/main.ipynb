{
 "cells": [
  {
   "cell_type": "markdown",
   "metadata": {
    "Collapsed": "false"
   },
   "source": [
    "# Before your start:\n",
    "- Read the README.md file\n",
    "- Comment as much as you can and use the resources in the README.md file\n",
    "- Happy learning!"
   ]
  },
  {
   "cell_type": "code",
   "execution_count": 15,
   "metadata": {
    "Collapsed": "false"
   },
   "outputs": [],
   "source": [
    "import re # to import the Regular expressions library"
   ]
  },
  {
   "cell_type": "code",
   "execution_count": null,
   "metadata": {},
   "outputs": [],
   "source": []
  },
  {
   "cell_type": "markdown",
   "metadata": {
    "Collapsed": "false"
   },
   "source": [
    "# Challenge 1 - Combining Strings\n",
    "\n",
    "Combining strings is an important skill to acquire. There are multiple ways of combining strings in Python, as well as combining strings with variables. We will explore this in the first challenge. In the cell below, combine the strings in the list and add spaces between the strings (do not add a space after the last string). Insert a period after the last string."
   ]
  },
  {
   "cell_type": "code",
   "execution_count": 26,
   "metadata": {
    "Collapsed": "false"
   },
   "outputs": [
    {
     "name": "stdout",
     "output_type": "stream",
     "text": [
      "Durante un tiempo no estuvo segura de si su marido era su marido.\n"
     ]
    }
   ],
   "source": [
    "str_list = ['Durante', 'un', 'tiempo', 'no', 'estuvo', 'segura', 'de', 'si', 'su', 'marido', 'era', 'su', 'marido']\n",
    "# Your code here:\n",
    "lst=' '.join(str_list)\n",
    "print (lst + \".\")"
   ]
  },
  {
   "cell_type": "markdown",
   "metadata": {
    "Collapsed": "false"
   },
   "source": [
    "In the cell below, use the list of strings to create a grocery list. Start the list with the string `Grocery list: ` and include a comma and a space between each item except for the last one. Include a period at the end. Only include foods in the list that start with the letter 'b' and ensure all foods are lower case."
   ]
  },
  {
   "cell_type": "code",
   "execution_count": 105,
   "metadata": {
    "Collapsed": "false"
   },
   "outputs": [
    {
     "name": "stdout",
     "output_type": "stream",
     "text": [
      "Grocery list:bananas,bread,brownie mix,broccoli.\n"
     ]
    }
   ],
   "source": [
    "food_list = ['Bananas', 'Chocolate', 'bread', 'diapers', 'Ice Cream', 'Brownie Mix', 'broccoli']\n",
    "# Your code here:\n",
    "import re\n",
    "new = []\n",
    "for i in food_list:\n",
    "    if i.startswith('b') or i.startswith ('B'): #startswith and endswith is Boolean method so only checks or True or False\n",
    "         new.append(i)\n",
    "new1=','.join(new)\n",
    "name = (\"Grocery list:\")\n",
    "new2 = name + new1.lower()\n",
    "print(new2 + '.')\n",
    "#print(food_list)"
   ]
  },
  {
   "cell_type": "markdown",
   "metadata": {
    "Collapsed": "false"
   },
   "source": [
    "In the cell below, write a function that computes the area of a circle using its radius. Compute the area of the circle and insert the radius and the area between the two strings. Make sure to include spaces between the variable and the strings. \n",
    "\n",
    "Note: You can use the techniques we have learned so far or use f-strings. F-strings allow us to embed code inside strings. You can read more about f-strings [here](https://www.python.org/dev/peps/pep-0498/)."
   ]
  },
  {
   "cell_type": "code",
   "execution_count": 112,
   "metadata": {
    "Collapsed": "false"
   },
   "outputs": [
    {
     "name": "stdout",
     "output_type": "stream",
     "text": [
      "The area of the circle with radius: 4.5 is 63.617.\n"
     ]
    }
   ],
   "source": [
    "import math\n",
    "\n",
    "string1 = \"The area of the circle with radius:\"\n",
    "string2  = \"is:\"\n",
    "radius = 4.5\n",
    "\n",
    "def area(x, pi = math.pi):\n",
    "    return(x**2)*pi\n",
    "#print(area(radius))\n",
    "#print(f\"(string1),{radius},(string2),{round(area(radius),3)}\") < do not know why this is not working\n",
    "print(f\"The area of the circle with radius: {radius} is {round(area(radius),3)}.\")    \n",
    "   # \"\"\"\n",
    "   # This function takes a radius and returns the area of a circle. \n",
    "   # We also pass a default value for pi.\n",
    "    \n",
    "    #Input: Float (and default value for pi)\n",
    "   # Output: Float\n",
    "    \n",
    "    #Sample input: 5.0\n",
    "    #Sample Output: 78.53981633\n",
    "   # \"\"\"\n",
    "    \n",
    "    # Your code here:\n",
    "    \n",
    "    \n",
    "# Your output string here:"
   ]
  },
  {
   "cell_type": "markdown",
   "metadata": {
    "Collapsed": "false"
   },
   "source": [
    "# Challenge 2 - Splitting Strings\n",
    "\n",
    "We have first looked at combining strings into one long string. There are times where we need to do the opposite and split the string into smaller components for further analysis. \n",
    "\n",
    "In the cell below, split the string into a list of strings using the space delimiter. Count the frequency of each word in the string in a dictionary. Strip the periods, line breaks and commas from the text. Make sure to remove empty strings from your dictionary."
   ]
  },
  {
   "cell_type": "code",
   "execution_count": 129,
   "metadata": {
    "Collapsed": "false"
   },
   "outputs": [
    {
     "name": "stdout",
     "output_type": "stream",
     "text": [
      "['Some', 'say', 'the', 'world', 'will', 'end', 'in', 'fire', 'Some', 'say', 'in', 'ice', 'From', 'what', 'Ive', 'tasted', 'of', 'desire', 'I', 'hold', 'with', 'those', 'who', 'favor', 'fire', 'But', 'if', 'it', 'had', 'to', 'perish', 'twice', 'I', 'think', 'I', 'know', 'enough', 'of', 'hate', 'To', 'say', 'that', 'for', 'destruction', 'ice', 'Is', 'also', 'great', 'And', 'would', 'suffice']\n",
      "Frequency of  Some : 2 \n",
      "Frequency of  say : 3 \n",
      "Frequency of  the : 1 \n",
      "Frequency of  world : 1 \n",
      "Frequency of  will : 1 \n",
      "Frequency of  end : 1 \n",
      "Frequency of  in : 2 \n",
      "Frequency of  fire, : 1 \n",
      "Frequency of  ice : 2 \n",
      "Frequency of  From : 1 \n",
      "Frequency of  what : 1 \n",
      "Frequency of  I’ve : 1 \n",
      "Frequency of  tasted : 1 \n",
      "Frequency of  of : 2 \n",
      "Frequency of  desire : 1 \n",
      "Frequency of  I : 3 \n",
      "Frequency of  hold : 1 \n",
      "Frequency of  with : 1 \n",
      "Frequency of  those : 1 \n",
      "Frequency of  who : 1 \n",
      "Frequency of  favor : 1 \n",
      "Frequency of  fire : 1 \n",
      "Frequency of  But : 1 \n",
      "Frequency of  if : 1 \n",
      "Frequency of  it : 1 \n",
      "Frequency of  had : 1 \n",
      "Frequency of  to : 1 \n",
      "Frequency of  perish : 1 \n",
      "Frequency of  twice, : 1 \n",
      "Frequency of  think : 1 \n",
      "Frequency of  know : 1 \n",
      "Frequency of  enough : 1 \n",
      "Frequency of  hate : 1 \n",
      "Frequency of  To : 1 \n",
      "Frequency of  that : 1 \n",
      "Frequency of  for : 1 \n",
      "Frequency of  destruction : 1 \n",
      "Frequency of  Is : 1 \n",
      "Frequency of  also : 1 \n",
      "Frequency of  great : 1 \n",
      "Frequency of  And : 1 \n",
      "Frequency of  would : 1 \n",
      "Frequency of  suffice : 1 \n"
     ]
    }
   ],
   "source": [
    "poem = \"\"\"Some say the world will end in fire,\n",
    "Some say in ice.\n",
    "From what I’ve tasted of desire\n",
    "I hold with those who favor fire.\n",
    "But if it had to perish twice,\n",
    "I think I know enough of hate\n",
    "To say that for destruction ice\n",
    "Is also great\n",
    "And would suffice.\"\"\"\n",
    "\n",
    "# Your code here:\n",
    "\n",
    "import re\n",
    "poem = \"\"\"Some say the world will end in fire,\n",
    "Some say in ice.\n",
    "From what I’ve tasted of desire\n",
    "I hold with those who favor fire.\n",
    "But if it had to perish twice,\n",
    "I think I know enough of hate\n",
    "To say that for destruction ice\n",
    "Is also great\n",
    "And would suffice.\"\"\"\n",
    "poem = re.sub(r'[^\\w\\s]','',poem) #this removes punctuation\n",
    "\n",
    "#print(poem.strip()) this strips spaces at the beginning and end\n",
    "print(poem.split()) #by default it splits based on spaces, so if we need to split on the point we need to mention .split(.) or by  comma .split(,)\n",
    "#can also split on one of the letters in the word - .split('m')\n",
    "\n",
    "\n",
    "# Find frequency of each word in a string in Python \n",
    "# using dictionary. \n",
    "   \n",
    "def count(elements): \n",
    "    # check if each word has '.' at its last. If so then ignore '.' \n",
    "    if elements[-1] == '.': \n",
    "        elements = elements[0:len(elements) - 1] \n",
    "   \n",
    "    # if there exists a key as \"elements\" then simply \n",
    "    # increase its value. \n",
    "    if elements in dictionary: \n",
    "        dictionary[elements] += 1\n",
    "   \n",
    "    # if the dictionary does not have the key as \"elements\"  \n",
    "    # then create a key \"elements\" and assign its value to 1. \n",
    "    else: \n",
    "        dictionary.update({elements: 1}) \n",
    "   \n",
    "   \n",
    "# driver input to check the program. \n",
    "   \n",
    "poem = \"\"\"Some say the world will end in fire,\n",
    "Some say in ice.\n",
    "From what I’ve tasted of desire\n",
    "I hold with those who favor fire.\n",
    "But if it had to perish twice,\n",
    "I think I know enough of hate\n",
    "To say that for destruction ice\n",
    "Is also great\n",
    "And would suffice.\"\"\"\n",
    "   \n",
    "# Declare a dictionary \n",
    "dictionary = {} \n",
    "   \n",
    "# split all the word of the string. \n",
    "lst = poem.split() \n",
    "   \n",
    "# take each word from lst and pass it to the method count. \n",
    "for elements in lst: \n",
    "    count(elements) \n",
    "   \n",
    "# print the keys and its corresponding values. \n",
    "for allKeys in dictionary: \n",
    "    print (\"Frequency of \", allKeys, end = \" \") \n",
    "    print (\":\", end = \" \") \n",
    "    print (dictionary[allKeys], end = \" \") \n",
    "    print()  "
   ]
  },
  {
   "cell_type": "markdown",
   "metadata": {
    "Collapsed": "false"
   },
   "source": [
    "In the cell below, find all the words that appear in the text and do not appear in the blacklist. You must parse the string but can choose any data structure you wish for the words that do not appear in the blacklist. Remove all non letter characters and convert all words to lower case."
   ]
  },
  {
   "cell_type": "code",
   "execution_count": 130,
   "metadata": {
    "Collapsed": "false"
   },
   "outputs": [
    {
     "data": {
      "text/plain": [
       "'i was angry with my friend; \\ni told my wrath, my wrath did end.\\ni was angry with my foe: \\ni told it not, my wrath did grow. \\n\\nand i waterd it in fears,\\nnight & morning with my tears: \\nand i sunned it with smiles,\\nand with soft deceitful wiles. \\n\\nand it grew both day and night. \\ntill it bore an apple bright. \\nand my foe beheld it shine,\\nand he knew that it was mine. \\n\\nand into my garden stole, \\nwhen the night had veild the pole; \\nin the morning glad i see; \\nmy foe outstretched beneath the tree.'"
      ]
     },
     "execution_count": 130,
     "metadata": {},
     "output_type": "execute_result"
    }
   ],
   "source": [
    "blacklist = ['and', 'as', 'an', 'a', 'the', 'in', 'it']\n",
    "\n",
    "poem = \"\"\"I was angry with my friend; \n",
    "I told my wrath, my wrath did end.\n",
    "I was angry with my foe: \n",
    "I told it not, my wrath did grow. \n",
    "\n",
    "And I waterd it in fears,\n",
    "Night & morning with my tears: \n",
    "And I sunned it with smiles,\n",
    "And with soft deceitful wiles. \n",
    "\n",
    "And it grew both day and night. \n",
    "Till it bore an apple bright. \n",
    "And my foe beheld it shine,\n",
    "And he knew that it was mine. \n",
    "\n",
    "And into my garden stole, \n",
    "When the night had veild the pole; \n",
    "In the morning glad I see; \n",
    "My foe outstretched beneath the tree.\"\"\"\n",
    "\n",
    "# Your code here:\n",
    "poem.lower()\n"
   ]
  },
  {
   "cell_type": "markdown",
   "metadata": {
    "Collapsed": "false"
   },
   "source": [
    "# Challenge 3 - Regular Expressions\n",
    "\n",
    "Sometimes, we would like to perform more complex manipulations of our string. This is where regular expressions come in handy. In the cell below, return all characters that are upper case from the string specified below."
   ]
  },
  {
   "cell_type": "code",
   "execution_count": 20,
   "metadata": {
    "Collapsed": "false"
   },
   "outputs": [
    {
     "name": "stdout",
     "output_type": "stream",
     "text": [
      "['T', 'P']\n"
     ]
    }
   ],
   "source": [
    "poem = \"\"\"The apparition of these faces in the crowd;\n",
    "Petals on a wet, black bough.\"\"\"\n",
    "\n",
    "# Your code here:\n",
    "print(re.findall('[A-Z]', poem)) # specifying the range of A to Z will pick up any uppercase characters\n",
    "#[a-z] finding lowercase; [A-Z] finding uppercase; [0-9] finding numbers\n",
    "#print(len(re.findall(\"The\", poem))) #to count the number of times that specific word appears\n",
    "#[^a-z] returns anything that is not the lowercase characters (the oppposite), including characters and spaces"
   ]
  },
  {
   "cell_type": "markdown",
   "metadata": {
    "Collapsed": "false"
   },
   "source": [
    "In the cell below, filter the list provided and return all elements of the list containing a number. To filter the list, use the `re.search` function. Check if the function does not return `None`. You can read more about the `re.search` function [here](https://docs.python.org/3/library/re.html)."
   ]
  },
  {
   "cell_type": "code",
   "execution_count": 19,
   "metadata": {
    "Collapsed": "false"
   },
   "outputs": [
    {
     "name": "stdout",
     "output_type": "stream",
     "text": [
      "[]\n"
     ]
    }
   ],
   "source": [
    "import re\n",
    "data = ['123abc', 'abc123', 'JohnSmith1', 'ABBY4', 'JANE']\n",
    "\n",
    "# Your code here\n",
    "print(re.findall('^w', str(data)))\n"
   ]
  },
  {
   "cell_type": "markdown",
   "metadata": {
    "Collapsed": "false"
   },
   "source": [
    "# Bonus Challenge - Regular Expressions II\n",
    "\n",
    "In the cell below, filter the list provided to keep only strings containing at least one digit and at least one lower case letter. As in the previous question, use the `re.search` function and check that the result is not `None`.\n",
    "\n",
    "To read more about regular expressions, check out [this link](https://developers.google.com/edu/python/regular-expressions)."
   ]
  },
  {
   "cell_type": "code",
   "execution_count": null,
   "metadata": {
    "Collapsed": "false"
   },
   "outputs": [],
   "source": [
    "data = ['123abc', 'abc123', 'JohnSmith1', 'ABBY4', 'JANE']\n",
    "# Your code here:\n",
    "re.search"
   ]
  }
 ],
 "metadata": {
  "kernelspec": {
   "display_name": "Python 3",
   "language": "python",
   "name": "python3"
  },
  "language_info": {
   "codemirror_mode": {
    "name": "ipython",
    "version": 3
   },
   "file_extension": ".py",
   "mimetype": "text/x-python",
   "name": "python",
   "nbconvert_exporter": "python",
   "pygments_lexer": "ipython3",
   "version": "3.7.4"
  }
 },
 "nbformat": 4,
 "nbformat_minor": 4
}
