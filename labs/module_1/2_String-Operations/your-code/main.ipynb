{
 "cells": [
  {
   "cell_type": "markdown",
   "metadata": {
    "Collapsed": "false"
   },
   "source": [
    "# Before your start:\n",
    "- Read the README.md file\n",
    "- Comment as much as you can and use the resources in the README.md file\n",
    "- Happy learning!"
   ]
  },
  {
   "cell_type": "code",
   "execution_count": 1,
   "metadata": {
    "Collapsed": "false"
   },
   "outputs": [],
   "source": [
    "import re"
   ]
  },
  {
   "cell_type": "markdown",
   "metadata": {
    "Collapsed": "false"
   },
   "source": [
    "# Challenge 1 - Combining Strings\n",
    "\n",
    "Combining strings is an important skill to acquire. There are multiple ways of combining strings in Python, as well as combining strings with variables. We will explore this in the first challenge. In the cell below, combine the strings in the list and add spaces between the strings (do not add a space after the last string). Insert a period after the last string."
   ]
  },
  {
   "cell_type": "code",
   "execution_count": 2,
   "metadata": {
    "Collapsed": "false"
   },
   "outputs": [
    {
     "data": {
      "text/plain": [
       "'Durante un tiempo no estuvo segura de si su marido era su marido 20200705'"
      ]
     },
     "execution_count": 2,
     "metadata": {},
     "output_type": "execute_result"
    }
   ],
   "source": [
    "str_list = ['Durante', 'un', 'tiempo', 'no', 'estuvo', 'segura', 'de', 'si', 'su', 'marido', 'era', 'su', 'marido']\n",
    "# Your code here:\n",
    "\n",
    "' '.join(str_list) + ' 20200705'\n",
    "#paolo: why the number at he end?"
   ]
  },
  {
   "cell_type": "markdown",
   "metadata": {
    "Collapsed": "false"
   },
   "source": [
    "#### In the cell below, use the list of strings to create a grocery list. Start the list with the string `Grocery list: ` and include a comma and a space between each item except for the last one. Include a period at the end. Only include foods in the list that start with the letter 'b' and ensure all foods are lower case."
   ]
  },
  {
   "cell_type": "code",
   "execution_count": 3,
   "metadata": {
    "Collapsed": "false"
   },
   "outputs": [
    {
     "data": {
      "text/plain": [
       "['Grocery List', 'bananas', 'bread', 'brownie mix', 'broccoli']"
      ]
     },
     "execution_count": 3,
     "metadata": {},
     "output_type": "execute_result"
    }
   ],
   "source": [
    "food_list = ['Bananas', 'Chocolate', 'bread', 'diapers', 'Ice Cream', 'Brownie Mix', 'broccoli']\n",
    "# Your code here:\n",
    "\n",
    "\n",
    "grocery_list =['Grocery List']\n",
    "\n",
    "grocery_list += [i.lower() for i in food_list if i.lower().startswith('b')]\n",
    "\n",
    "grocery_list "
   ]
  },
  {
   "cell_type": "markdown",
   "metadata": {
    "Collapsed": "false"
   },
   "source": [
    "In the cell below, write a function that computes the area of a circle using its radius. Compute the area of the circle and insert the radius and the area between the two strings. Make sure to include spaces between the variable and the strings. \n",
    "\n",
    "Note: You can use the techniques we have learned so far or use f-strings. F-strings allow us to embed code inside strings. You can read more about f-strings [here](https://www.python.org/dev/peps/pep-0498/)."
   ]
  },
  {
   "cell_type": "code",
   "execution_count": 5,
   "metadata": {
    "Collapsed": "false"
   },
   "outputs": [
    {
     "name": "stdout",
     "output_type": "stream",
     "text": [
      "The area of the circle with radius: 4.5 is 63.62: \n"
     ]
    }
   ],
   "source": [
    "import math\n",
    "\n",
    "string1 = \"The area of the circle with radius: {0}\"\n",
    "string2  = \" is {0}: \"\n",
    "radius = 4.5\n",
    "\n",
    "def area(x, pi = math.pi):\n",
    "    A = round(pi * (x**2),2)\n",
    "    \n",
    "\n",
    "    \"\"\"\n",
    "    This function takes a radius and returns the area of a circle. \n",
    "    We also pass a default value for pi.\n",
    "    \n",
    "    Input: Float (and default value for pi)\n",
    "    Output: Float\n",
    "    \n",
    "    Sample input: 5.0\n",
    "    Sample Output: 78.53981633\n",
    "    \"\"\"\n",
    "#     return x,pi, A\n",
    "    return print(string1.format(str(x)) + string2.format(str(A)))\n",
    "    # Your code here:\n",
    "    \n",
    "    \n",
    "# Your output string here:\n",
    "area(4.5)\n",
    "#paolo:yes! "
   ]
  },
  {
   "cell_type": "markdown",
   "metadata": {
    "Collapsed": "false"
   },
   "source": [
    "# Challenge 2 - Splitting Strings\n",
    "\n",
    "We have first looked at combining strings into one long string. There are times where we need to do the opposite and split the string into smaller components for further analysis. \n",
    "\n",
    "In the cell below, split the string into a list of strings using the space delimiter. Count the frequency of each word in the string in a dictionary. Strip the periods, line breaks and commas from the text. Make sure to remove empty strings from your dictionary."
   ]
  },
  {
   "cell_type": "code",
   "execution_count": 46,
   "metadata": {
    "Collapsed": "false"
   },
   "outputs": [
    {
     "name": "stdout",
     "output_type": "stream",
     "text": [
      "{'hold': 1, 'with': 1, 'it': 2, 'end': 1, 'perish': 1, 'that': 1, 'is': 2, 'say': 3, 'those': 1, 'suffice': 1, 'of': 2, 'ice': 4, 'who': 1, 'some': 2, 'would': 1, 'great': 1, 'if': 1, 'for': 1, 'the': 1, 'desire': 1, 've': 1, 'tasted': 1, 'but': 1, 'think': 1, 'favor': 1, 'fire': 2, 'from': 1, 'twice': 1, 'know': 1, 'enough': 1, 'destruction': 1, 'what': 1, 'also': 1, 'will': 1, 'hate': 1, 'had': 1, 'in': 3, 'and': 1, 'to': 2, 'world': 1}\n"
     ]
    }
   ],
   "source": [
    "poem = \"\"\"Some say the world will end in fire,\n",
    "Some say in ice.\n",
    "From what I’ve tasted of desire\n",
    "I hold with those who favor fire.\n",
    "But if it had to perish twice,\n",
    "I think I know enough of hate\n",
    "To say that for destruction ice\n",
    "Is also great\n",
    "And would suffice.\"\"\"\n",
    "\n",
    "# Your code here:\n",
    "\n",
    "poem_lower = poem.lower() # I change everything to small letters which makes it easier to count later on. \n",
    "\n",
    "poem_new = poem.replace('\\n',' ').replace('.',' ').replace(',',' ').replace('’',' ') # quick and dirty way to remove the strange characters. \n",
    "#Not sure what to do with \"ve\" which remains after removing ’\n",
    "words = re.split(' ',poem_new) # splits the separate words \n",
    "words = [i for i in words if len(i)>0] #removes empty spaces\n",
    "words = [i.lower() for i in words if len(i)>1] #removes makes sure that capital letters are removed for words other than I\n",
    "words = set(words) # change words in a set in order to get rid of the duplicates\n",
    "\n",
    "word_count = {}\n",
    "for i in words:\n",
    "    if len(i) > 1:\n",
    "         count = len(re.findall(i,poem_lower))\n",
    "        \n",
    "    else: \n",
    "          count = len(re.findall(i,poem))\n",
    "\n",
    "    word_count.update({i:count})\n",
    "#     print(i)\n",
    "\n",
    "\n",
    "print(word_count)#paolo: using print makes it more readable\n",
    "#Paolo: it works! I don't understand the if-else condition, see cell below"
   ]
  },
  {
   "cell_type": "code",
   "execution_count": 47,
   "metadata": {
    "Collapsed": "false"
   },
   "outputs": [
    {
     "name": "stdout",
     "output_type": "stream",
     "text": [
      "{'hold': 1, 'with': 1, 'it': 2, 'end': 1, 'perish': 1, 'that': 1, 'is': 2, 'say': 3, 'those': 1, 'suffice': 1, 'of': 2, 'ice': 4, 'who': 1, 'some': 2, 'would': 1, 'great': 1, 'if': 1, 'for': 1, 'the': 1, 'desire': 1, 've': 1, 'tasted': 1, 'but': 1, 'think': 1, 'favor': 1, 'fire': 2, 'from': 1, 'twice': 1, 'know': 1, 'enough': 1, 'destruction': 1, 'what': 1, 'also': 1, 'will': 1, 'hate': 1, 'had': 1, 'in': 3, 'and': 1, 'to': 2, 'world': 1}\n"
     ]
    }
   ],
   "source": [
    "#paolo: easier loop\n",
    "word_count = {}\n",
    "for i in words:\n",
    "        count = len(re.findall(i,poem_lower))\n",
    "        word_count.update({i:count})\n",
    "\n",
    "print(word_count)"
   ]
  },
  {
   "cell_type": "markdown",
   "metadata": {
    "Collapsed": "false"
   },
   "source": [
    "In the cell below, find all the words that appear in the text and do not appear in the blacklist. You must parse the string but can choose any data structure you wish for the words that do not appear in the blacklist. Remove all non letter characters and convert all words to lower case."
   ]
  },
  {
   "cell_type": "code",
   "execution_count": 62,
   "metadata": {
    "Collapsed": "false"
   },
   "outputs": [
    {
     "name": "stdout",
     "output_type": "stream",
     "text": [
      "Non banned words:47\n",
      "{'foe', 'with', 'that', 'end', 'waterd', 'my', 'deceitful', 'outstretched', 'shine', 'not', 'day', 'night', 'tree', 'both', 'morning', 'beneath', 'told', 'wrath', 'veild', 'wiles', 'soft', 'friend', 'stole', 'garden', 'apple', 'when', 'fears', 'tears', 'did', 'sunned', 'grew', 'angry', 'beheld', 'pole', 'knew', 'mine', 'was', 'see', 'had', 'bright', 'glad', 'into', 'grow', 'smiles', 'till', 'bore', 'he'}\n"
     ]
    }
   ],
   "source": [
    "blacklist = ['and', 'as', 'an', 'a', 'the', 'in', 'it']\n",
    "\n",
    "poem = \"\"\"I was angry with my friend; \n",
    "I told my wrath, my wrath did end.\n",
    "I was angry with my foe: \n",
    "I told it not, my wrath did grow. \n",
    "\n",
    "And I waterd it in fears,\n",
    "Night & morning with my tears: \n",
    "And I sunned it with smiles,\n",
    "And with soft deceitful wiles. \n",
    "\n",
    "And it grew both day and night. \n",
    "Till it bore an apple bright. \n",
    "And my foe beheld it shine,\n",
    "And he knew that it was mine. \n",
    "\n",
    "And into my garden stole, \n",
    "When the night had veild the pole; \n",
    "In the morning glad I see; \n",
    "My foe outstretched beneath the tree.\"\"\"\n",
    "\n",
    "# Your code here:\n",
    "character_removal_list = \".\\n;,&:\"\n",
    "\n",
    "\n",
    "def remove_strange_characters(characters,text):\n",
    "    for i in characters:\n",
    "        text = text.replace(i,' ')\n",
    "    \n",
    "    return text\n",
    "\n",
    "stripped_poem = remove_strange_characters(character_removal_list,poem)\n",
    "stripped_poem = re.split(' ',stripped_poem) # splits the separate words \n",
    "words_in_poem = [i for i in stripped_poem if len(i)>0] #removes empty spaces\n",
    "\n",
    "words_in_poem = [i.lower() for i in words_in_poem if len(i)>1] #removes makes sure that capital letters are removed for words other than I\n",
    "words_in_poem = set(words_in_poem)\n",
    "\n",
    "words_in_poem\n",
    "\n",
    "non_banned_words = words_in_poem - set(blacklist)\n",
    "print('Non banned words:{0}'.format(len(non_banned_words)))\n",
    "print(non_banned_words)\n",
    "#paolo: good approach, you are missing 'i' in the non_banned_words"
   ]
  },
  {
   "cell_type": "markdown",
   "metadata": {
    "Collapsed": "false"
   },
   "source": [
    "# Challenge 3 - Regular Expressions\n",
    "\n",
    "Sometimes, we would like to perform more complex manipulations of our string. This is where regular expressions come in handy. In the cell below, return all characters that are upper case from the string specified below."
   ]
  },
  {
   "cell_type": "code",
   "execution_count": 7,
   "metadata": {
    "Collapsed": "false"
   },
   "outputs": [
    {
     "data": {
      "text/plain": [
       "['T', 'P']"
      ]
     },
     "execution_count": 7,
     "metadata": {},
     "output_type": "execute_result"
    }
   ],
   "source": [
    "poem = \"\"\"The apparition of these faces in the crowd;\n",
    "Petals on a wet, black bough.\"\"\"\n",
    "\n",
    "# Your code here:\n",
    "\n",
    "re.findall('[A-Z]',poem)\n",
    "#paolo: yes!"
   ]
  },
  {
   "cell_type": "markdown",
   "metadata": {
    "Collapsed": "false"
   },
   "source": [
    "In the cell below, filter the list provided and return all elements of the list containing a number. To filter the list, use the `re.search` function. Check if the function does not return `None`. You can read more about the `re.search` function [here](https://docs.python.org/3/library/re.html)."
   ]
  },
  {
   "cell_type": "code",
   "execution_count": 19,
   "metadata": {
    "Collapsed": "false"
   },
   "outputs": [
    {
     "data": {
      "text/plain": [
       "['123abc', 'abc123', 'JohnSmith1', 'ABBY4']"
      ]
     },
     "execution_count": 19,
     "metadata": {},
     "output_type": "execute_result"
    }
   ],
   "source": [
    "data = ['123abc', 'abc123', 'JohnSmith1', 'ABBY4', 'JANE']\n",
    "\n",
    "numbers_list = []\n",
    "# Your code here:\n",
    "for i in data:\n",
    "    m = re.search(r'[0-9]', i)\n",
    "    try:\n",
    "        y = m.group(0)\n",
    "        numbers_list.append(i)\n",
    "    except AttributeError:\n",
    "        continue\n",
    "numbers_list\n",
    "#paolo: ok"
   ]
  },
  {
   "cell_type": "markdown",
   "metadata": {
    "Collapsed": "false"
   },
   "source": [
    "# Bonus Challenge - Regular Expressions II\n",
    "\n",
    "In the cell below, filter the list provided to keep only strings containing at least one digit and at least one lower case letter. As in the previous question, use the `re.search` function and check that the result is not `None`.\n",
    "\n",
    "To read more about regular expressions, check out [this link](https://developers.google.com/edu/python/regular-expressions)."
   ]
  },
  {
   "cell_type": "code",
   "execution_count": 20,
   "metadata": {
    "Collapsed": "false"
   },
   "outputs": [
    {
     "name": "stdout",
     "output_type": "stream",
     "text": [
      "['123abc', 'abc123', 'JohnSmith1']\n"
     ]
    }
   ],
   "source": [
    "data = ['123abc', 'abc123', 'JohnSmith1', 'ABBY4', 'JANE']\n",
    "# Your code here:\n",
    "\n",
    "numbers_list = []\n",
    "for i in data:\n",
    "    m = re.search(r'[0-9]', i)\n",
    "    try:\n",
    "        if int(m.group(0)) >= 1 and len(re.findall('[a-z]',i)) >= 1:\n",
    "            numbers_list.append(i)\n",
    "            \n",
    "    except AttributeError:\n",
    "        continue\n",
    "        \n",
    "print(numbers_list)\n",
    "#paolo: yes! checkout easier version below"
   ]
  },
  {
   "cell_type": "code",
   "execution_count": 48,
   "metadata": {
    "Collapsed": "false"
   },
   "outputs": [
    {
     "data": {
      "text/plain": [
       "['123abc', 'abc123', 'JohnSmith1']"
      ]
     },
     "execution_count": 48,
     "metadata": {},
     "output_type": "execute_result"
    }
   ],
   "source": [
    "# list comprehension alternative\n",
    "[x for x in data if re.search(\"(?=.*\\d)(?=.*[a-z]).*\", x) is not None]"
   ]
  }
 ],
 "metadata": {
  "kernelspec": {
   "display_name": "Python 3",
   "language": "python",
   "name": "python3"
  },
  "language_info": {
   "codemirror_mode": {
    "name": "ipython",
    "version": 3
   },
   "file_extension": ".py",
   "mimetype": "text/x-python",
   "name": "python",
   "nbconvert_exporter": "python",
   "pygments_lexer": "ipython3",
   "version": "3.7.6"
  }
 },
 "nbformat": 4,
 "nbformat_minor": 4
}
